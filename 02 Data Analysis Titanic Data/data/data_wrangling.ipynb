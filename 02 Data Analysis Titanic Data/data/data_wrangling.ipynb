{
 "cells": [
  {
   "cell_type": "markdown",
   "metadata": {},
   "source": [
    "# Limpeza dos dados"
   ]
  },
  {
   "cell_type": "markdown",
   "metadata": {},
   "source": [
    "### Descrição do processo"
   ]
  },
  {
   "cell_type": "code",
   "execution_count": 1,
   "metadata": {},
   "outputs": [],
   "source": [
    "# bibliotecas usadas para análise\n",
    "import pandas as pd\n",
    "import numpy as np\n",
    "import matplotlib.pyplot as plt\n",
    "import seaborn as sns\n",
    "from pprint import pprint\n",
    "% matplotlib inline"
   ]
  },
  {
   "cell_type": "code",
   "execution_count": 2,
   "metadata": {},
   "outputs": [],
   "source": [
    "# funções personalizadas para manipulação dos dados\n",
    "from data_modules import data_manipulation_functions as dm\n",
    "from data_modules import data_table_format as tab"
   ]
  },
  {
   "cell_type": "code",
   "execution_count": 3,
   "metadata": {},
   "outputs": [
    {
     "data": {
      "text/html": [
       "<div>\n",
       "<style scoped>\n",
       "    .dataframe tbody tr th:only-of-type {\n",
       "        vertical-align: middle;\n",
       "    }\n",
       "\n",
       "    .dataframe tbody tr th {\n",
       "        vertical-align: top;\n",
       "    }\n",
       "\n",
       "    .dataframe thead th {\n",
       "        text-align: right;\n",
       "    }\n",
       "</style>\n",
       "<table border=\"1\" class=\"dataframe\">\n",
       "  <thead>\n",
       "    <tr style=\"text-align: right;\">\n",
       "      <th></th>\n",
       "      <th>PassengerId</th>\n",
       "      <th>Survived</th>\n",
       "      <th>Pclass</th>\n",
       "      <th>Name</th>\n",
       "      <th>Sex</th>\n",
       "      <th>Age</th>\n",
       "      <th>SibSp</th>\n",
       "      <th>Parch</th>\n",
       "      <th>Ticket</th>\n",
       "      <th>Fare</th>\n",
       "      <th>Cabin</th>\n",
       "      <th>Embarked</th>\n",
       "    </tr>\n",
       "  </thead>\n",
       "  <tbody>\n",
       "    <tr>\n",
       "      <th>0</th>\n",
       "      <td>1</td>\n",
       "      <td>0</td>\n",
       "      <td>3</td>\n",
       "      <td>Braund, Mr. Owen Harris</td>\n",
       "      <td>male</td>\n",
       "      <td>22.0</td>\n",
       "      <td>1</td>\n",
       "      <td>0</td>\n",
       "      <td>A/5 21171</td>\n",
       "      <td>7.2500</td>\n",
       "      <td>NaN</td>\n",
       "      <td>S</td>\n",
       "    </tr>\n",
       "    <tr>\n",
       "      <th>1</th>\n",
       "      <td>2</td>\n",
       "      <td>1</td>\n",
       "      <td>1</td>\n",
       "      <td>Cumings, Mrs. John Bradley (Florence Briggs Th...</td>\n",
       "      <td>female</td>\n",
       "      <td>38.0</td>\n",
       "      <td>1</td>\n",
       "      <td>0</td>\n",
       "      <td>PC 17599</td>\n",
       "      <td>71.2833</td>\n",
       "      <td>C85</td>\n",
       "      <td>C</td>\n",
       "    </tr>\n",
       "    <tr>\n",
       "      <th>2</th>\n",
       "      <td>3</td>\n",
       "      <td>1</td>\n",
       "      <td>3</td>\n",
       "      <td>Heikkinen, Miss. Laina</td>\n",
       "      <td>female</td>\n",
       "      <td>26.0</td>\n",
       "      <td>0</td>\n",
       "      <td>0</td>\n",
       "      <td>STON/O2. 3101282</td>\n",
       "      <td>7.9250</td>\n",
       "      <td>NaN</td>\n",
       "      <td>S</td>\n",
       "    </tr>\n",
       "  </tbody>\n",
       "</table>\n",
       "</div>"
      ],
      "text/plain": [
       "   PassengerId  Survived  Pclass  \\\n",
       "0            1         0       3   \n",
       "1            2         1       1   \n",
       "2            3         1       3   \n",
       "\n",
       "                                                Name     Sex   Age  SibSp  \\\n",
       "0                            Braund, Mr. Owen Harris    male  22.0      1   \n",
       "1  Cumings, Mrs. John Bradley (Florence Briggs Th...  female  38.0      1   \n",
       "2                             Heikkinen, Miss. Laina  female  26.0      0   \n",
       "\n",
       "   Parch            Ticket     Fare Cabin Embarked  \n",
       "0      0         A/5 21171   7.2500   NaN        S  \n",
       "1      0          PC 17599  71.2833   C85        C  \n",
       "2      0  STON/O2. 3101282   7.9250   NaN        S  "
      ]
     },
     "execution_count": 3,
     "metadata": {},
     "output_type": "execute_result"
    }
   ],
   "source": [
    "# carregamento dos dados\n",
    "data_titanic_raw = pd.read_csv('./titanic-data-6.csv')\n",
    "\n",
    "# primeiros 5 registros do conjunto\n",
    "data_titanic_raw.head(3)"
   ]
  },
  {
   "cell_type": "markdown",
   "metadata": {},
   "source": [
    "### Preparação dos dados\n",
    "Após verificar linhas e colunas da tabela, serão feitos ajustes para deixar os dados mais legíveis e concistentes de modo a preservar a informação:"
   ]
  },
  {
   "cell_type": "code",
   "execution_count": 4,
   "metadata": {},
   "outputs": [],
   "source": [
    "# 1. remoção da coluna PassengerId\n",
    "# esse coluna será descatada porque não possui informações consideradas relevantes para a análise\n",
    "data_titanic = data_titanic_raw.drop(columns=['PassengerId'])"
   ]
  },
  {
   "cell_type": "code",
   "execution_count": 5,
   "metadata": {},
   "outputs": [],
   "source": [
    "# 2. ajuste da legibilidade do cabeçalho\n",
    "# termos utilizados foram ajustados no idioma original para deixar mais descritivas as colunas \n",
    "raw_header = data_titanic.columns\n",
    "new_header = ['survived', 'ticket_class', 'name', 'gender', 'age',\n",
    "              'siblings_or_spouses', 'parents_or_children', 'ticket_number','fare',\n",
    "              'cabin_number', 'embarkation_city']\n",
    "header = dict(zip(raw_header, new_header))\n",
    "data_titanic.rename(columns=header, inplace=True)"
   ]
  },
  {
   "cell_type": "code",
   "execution_count": 6,
   "metadata": {},
   "outputs": [
    {
     "data": {
      "text/plain": [
       "['age', 'cabin_number', 'embarkation_city']"
      ]
     },
     "execution_count": 6,
     "metadata": {},
     "output_type": "execute_result"
    }
   ],
   "source": [
    "# 3. ajuste de valores\n",
    "get_columns_with_values = dm.get_data_by_condition_from(data_titanic)\n",
    "\n",
    "# não há linhas duplicadas\n",
    "data_titanic.duplicated().any()\n",
    "\n",
    "# 'age', 'cabin_number', 'embarkation_city' possuem dados nulos\n",
    "get_columns_with_values('null', 'extract_column_names')"
   ]
  },
  {
   "cell_type": "code",
   "execution_count": 7,
   "metadata": {},
   "outputs": [
    {
     "name": "stderr",
     "output_type": "stream",
     "text": [
      "/Users/Tiago/anaconda3/lib/python3.6/site-packages/ipykernel_launcher.py:53: SettingWithCopyWarning: \n",
      "A value is trying to be set on a copy of a slice from a DataFrame\n",
      "\n",
      "See the caveats in the documentation: http://pandas.pydata.org/pandas-docs/stable/indexing.html#indexing-view-versus-copy\n",
      "/Users/Tiago/anaconda3/lib/python3.6/site-packages/scipy/stats/stats.py:1706: FutureWarning: Using a non-tuple sequence for multidimensional indexing is deprecated; use `arr[tuple(seq)]` instead of `arr[seq]`. In the future this will be interpreted as an array index, `arr[np.array(seq)]`, which will result either in an error or a different result.\n",
      "  return np.add.reduce(sorted[indexer] * weights, axis=axis) / sumval\n",
      "/Users/Tiago/anaconda3/lib/python3.6/site-packages/matplotlib/figure.py:418: UserWarning: matplotlib is currently using a non-GUI backend, so cannot show the figure\n",
      "  \"matplotlib is currently using a non-GUI backend, \"\n"
     ]
    },
    {
     "data": {
      "image/png": "[encoded data removed]",
      "text/plain": [
       "<matplotlib.figure.Figure at 0x1a20b597f0>"
      ]
     },
     "metadata": {
      "needs_background": "light"
     },
     "output_type": "display_data"
    }
   ],
   "source": [
    "# 3.1. ajuste coluna age\n",
    "# essa coluna tem cerca de 20% da amostra com valores NaN\n",
    "# comparando preencher os dados NaN com a média das idades ou com valores random entre maior/menor valores,\n",
    "# optou-se por preencher pela estratégia randômica para inteferir menos da distruição como um todo\n",
    "\n",
    "data_titanic_ages_null = data_titanic.query('age.isnull()', engine='python')['age']\n",
    "data_titanic_ages_null.shape # 177 \n",
    "data_titanic_valid_ages = data_titanic.query('age.notnull()', engine='python')['age']\n",
    "\n",
    "ages_mean = data_titanic_valid_ages.mean()\n",
    "ages_median = data_titanic_valid_ages.median()\n",
    "ages_mode = data_titanic_valid_ages.mode().get_values()[0]\n",
    "\n",
    "df_titanic_ages_nan_mean = data_titanic['age'].fillna(data_titanic['age'].mean())\n",
    "ages_mean_na_mean = df_titanic_ages_nan_mean.mean()\n",
    "ages_median_na_mean = df_titanic_ages_nan_mean.median()\n",
    "ages_mode_na_mean = df_titanic_ages_nan_mean.mode().get_values()[0]\n",
    "\n",
    "age_min, age_max = data_titanic['age'].min(), data_titanic['age'].max()\n",
    "ages_to_replace_null_reference = np.random.uniform(age_min, age_max, size=data_titanic_ages_null.shape)\n",
    "\n",
    "# valores gerados pelo random foram copiados e colados para evitar \n",
    "# mudanças devida alguma atualização dessa célula que geraria outros números randômicos\n",
    "ages_to_replace_null = [20.90931717, 62.13529179, 59.64040575, 12.02488446, 69.41204392, 61.24202836, 41.44933962,\n",
    "                        10.3519298 , 50.76510719, 46.79992031, 20.09347534, 63.07128158, 55.87974807, 26.48084528,\n",
    "                        26.29833389, 74.33062884, 30.06171315, 20.06074292, 0.67866898, 55.77450149, 43.8747529, \n",
    "                        26.24643849, 17.07880883, 17.61871374, 7.74908789, 39.99897263, 74.26286149, 10.80354165, \n",
    "                        52.27410117, 76.87587001, 22.01354655, 1.49411825, 50.40733695, 66.54701743, 55.34054513,\n",
    "                        74.71321378, 5.25920319, 38.49321556, 65.44311878, 44.8540443, 3.11558581, 71.01147459, \n",
    "                        66.45021309, 32.78638544, 38.06492085, 19.33696868, 76.97043417,  2.61430917, 77.14175515, \n",
    "                        48.21320985, 71.70778291, 64.3371818, 25.55485401, 34.70767785, 11.12520803, 4.08390278,\n",
    "                        5.45671369, 74.14639767, 19.37978725, 12.30581713,13.17495576, 56.22337203, 50.23990028,\n",
    "                        76.3119208, 14.14174557, 8.06574175, 61.41956351, 20.49666319, 46.07275802, 78.26326336,\n",
    "                        53.34291235, 27.00447996, 48.51083118, 7.92562105,  3.89618346, 62.86036329, 1.56955051, \n",
    "                        52.1759369, 72.28272872, 22.20834428, 16.63525525, 47.5165373,  8.91606123, 18.88227844, \n",
    "                        12.4487666, 33.56788634, 6.58207188, 75.81323994,  2.61378813, 62.1974029, 8.05424188, \n",
    "                        49.78472697, 64.98693829, 7.90728644, 29.08444469, 10.74244298, 42.05763065, 46.96726314, \n",
    "                        33.1789131, 54.25548294, 15.87982563, 40.14112005, 61.96118333, 77.55642527, 31.78330007,\n",
    "                        18.8056585, 62.56353226, 13.20402122, 75.65677189, 62.70643253, 66.37757126, 15.15237538, \n",
    "                        19.09705288, 33.35795617, 52.71780435, 40.5940233, 32.31375557, 23.83276452, 16.36828367, \n",
    "                        67.40823125, 50.15360949, 36.6618675 , 29.83593501, 18.63284763, 68.89769054, 65.45982414,\n",
    "                        66.01895508, 57.74152344, 57.61205451, 55.45430852, 12.84551707, 43.3619279, 20.66171068,\n",
    "                        28.35221179, 47.16580338, 35.48411795, 10.72288254, 56.36542421, 9.78340453, 66.84079431,                        \n",
    "                        36.83831179, 4.03227386, 27.73853637, 62.18638439, 79.98017521, 78.12216046, 11.16849522,\n",
    "                        32.63622032, 14.58262641, 32.56117493, 42.16151503, 59.14912867, 4.75910659, 51.67200825, \n",
    "                        21.74230813, 57.0004401, 2.45499948, 19.3833269, 2.36740462, 8.12756607, 44.01963051, \n",
    "                        37.6868932, 0.44974649, 19.80264642, 46.45770521, 17.25289881, 26.72635083, 44.45051282,\n",
    "                        52.34606051, 68.52679216, 54.44085061, 49.86389433, 37.36184953, 70.43390175, 20.90678597,\n",
    "                        35.54738141, 31.0820056]\n",
    "\n",
    "# substitui série data_titanic_ages_null pelos valores randômicos \n",
    "# os valores estão no type float ajustados para 2 casas decimais do mesmo modo que a amostra\n",
    "data_titanic_ages_null.iloc[:] = [float(round(age, 1)) for age in ages_to_replace_null]\n",
    "\n",
    "df_titanic_ages_nan_uniform_random = data_titanic_valid_ages.append(data_titanic_ages_null)\n",
    "ages_mean_nan_random = df_titanic_ages_nan_uniform_random.mean()\n",
    "ages_median_nan_random = df_titanic_ages_nan_uniform_random.median()\n",
    "ages_mode_nan_random = df_titanic_ages_nan_uniform_random.mode().get_values()[0]\n",
    "\n",
    "# distribuição comparativa\n",
    "figure_ages, ax_ages = plt.subplots(1,3, sharex='col', sharey='row', figsize=(15,3))\n",
    "\n",
    "# distribuição apenas com valores válidos\n",
    "plot_valid_ages = sns.distplot(data_titanic_valid_ages, kde=False, ax=ax_ages[0])\n",
    "valid_ages_content = {'title': 'means without NaN', \n",
    "                      'mean': ages_mean, 'median': ages_median, 'mode': ages_mode}\n",
    "dm.plot_distribution_with_means(plot_valid_ages, valid_ages_content)\n",
    "\n",
    "# distribuição com nulos preenchidos com média\n",
    "plot_ages_nan_mean = sns.distplot(df_titanic_ages_nan_mean, kde=False, ax=ax_ages[1])\n",
    "ages_mean_as_missing_content = {'title': 'means - NaN filled with mean', \n",
    "                                'mean': ages_mean_na_mean, 'median': ages_median_na_mean, 'mode': ages_mode_na_mean}\n",
    "dm.plot_distribution_with_means(plot_ages_nan_mean, ages_mean_as_missing_content)\n",
    "\n",
    "# distribuição com nulos preenchidos com random uniform\n",
    "plot_ages_nan_uniform_random = sns.distplot(df_titanic_ages_nan_uniform_random, kde=False, ax=ax_ages[2])\n",
    "ages_nan_uniform_random_content = {'title': 'means - NaN filled with random uniform', \n",
    "                                   'mean': ages_mean_nan_random, 'median': ages_median_nan_random, 'mode': ages_mode_nan_random}\n",
    "dm.plot_distribution_with_means(plot_ages_nan_uniform_random, ages_nan_uniform_random_content)\n",
    "\n",
    "\n",
    "figure_ages.show()\n",
    "\n",
    "# substitui valores NaN por valores randômicos uniforme\n",
    "data_titanic['age'].fillna(value=data_titanic_ages_null, inplace=True)"
   ]
  },
  {
   "cell_type": "code",
   "execution_count": 8,
   "metadata": {},
   "outputs": [
    {
     "data": {
      "text/html": [
       "<div>\n",
       "<style scoped>\n",
       "    .dataframe tbody tr th:only-of-type {\n",
       "        vertical-align: middle;\n",
       "    }\n",
       "\n",
       "    .dataframe tbody tr th {\n",
       "        vertical-align: top;\n",
       "    }\n",
       "\n",
       "    .dataframe thead th {\n",
       "        text-align: right;\n",
       "    }\n",
       "</style>\n",
       "<table border=\"1\" class=\"dataframe\">\n",
       "  <thead>\n",
       "    <tr style=\"text-align: right;\">\n",
       "      <th></th>\n",
       "      <th>survived</th>\n",
       "      <th>ticket_class</th>\n",
       "      <th>name</th>\n",
       "      <th>gender</th>\n",
       "      <th>age</th>\n",
       "      <th>siblings_or_spouses</th>\n",
       "      <th>parents_or_children</th>\n",
       "      <th>ticket_number</th>\n",
       "      <th>fare</th>\n",
       "      <th>embarkation_city</th>\n",
       "    </tr>\n",
       "  </thead>\n",
       "  <tbody>\n",
       "    <tr>\n",
       "      <th>0</th>\n",
       "      <td>0</td>\n",
       "      <td>3</td>\n",
       "      <td>Braund, Mr. Owen Harris</td>\n",
       "      <td>male</td>\n",
       "      <td>22.0</td>\n",
       "      <td>1</td>\n",
       "      <td>0</td>\n",
       "      <td>A/5 21171</td>\n",
       "      <td>7.2500</td>\n",
       "      <td>S</td>\n",
       "    </tr>\n",
       "    <tr>\n",
       "      <th>1</th>\n",
       "      <td>1</td>\n",
       "      <td>1</td>\n",
       "      <td>Cumings, Mrs. John Bradley (Florence Briggs Th...</td>\n",
       "      <td>female</td>\n",
       "      <td>38.0</td>\n",
       "      <td>1</td>\n",
       "      <td>0</td>\n",
       "      <td>PC 17599</td>\n",
       "      <td>71.2833</td>\n",
       "      <td>C</td>\n",
       "    </tr>\n",
       "  </tbody>\n",
       "</table>\n",
       "</div>"
      ],
      "text/plain": [
       "   survived  ticket_class                                               name  \\\n",
       "0         0             3                            Braund, Mr. Owen Harris   \n",
       "1         1             1  Cumings, Mrs. John Bradley (Florence Briggs Th...   \n",
       "\n",
       "   gender   age  siblings_or_spouses  parents_or_children ticket_number  \\\n",
       "0    male  22.0                    1                    0     A/5 21171   \n",
       "1  female  38.0                    1                    0      PC 17599   \n",
       "\n",
       "      fare embarkation_city  \n",
       "0   7.2500                S  \n",
       "1  71.2833                C  "
      ]
     },
     "execution_count": 8,
     "metadata": {},
     "output_type": "execute_result"
    }
   ],
   "source": [
    "# 3.2. ajuste coluna cabin\n",
    "# essa coluna apresenta apenas 204 válidos\n",
    "# isso representa 9,18% do total de pessoas abordo e também\n",
    "# não seria possível saber quais pessoas estavam na mesma cabine\n",
    "# para esta análise essa variável foi descartada\n",
    "data_titanic.query('cabin_number.notnull()', engine='python')['cabin_number'].shape\n",
    "cabin_percentage = dm.get_percent_of(204, 2224)\n",
    "data_titanic.drop(columns='cabin_number', inplace=True)\n",
    "data_titanic.head(2)"
   ]
  },
  {
   "cell_type": "code",
   "execution_count": 9,
   "metadata": {},
   "outputs": [
    {
     "data": {
      "text/plain": [
       "array(['Southampton', 'Cherbourg', 'Queestown', 'not_provided'],\n",
       "      dtype=object)"
      ]
     },
     "execution_count": 9,
     "metadata": {},
     "output_type": "execute_result"
    }
   ],
   "source": [
    "# 3.3. ajuste coluna embarkation_city\n",
    "# ajustes de conteúdo para deixar valors da coluna mais legíveis\n",
    "embarkation_city_nulls = data_titanic.query('embarkation_city.isnull()', engine='python')['embarkation_city'].shape\n",
    "\n",
    "embarkation_cities = {'s':'Southampton', 'c': 'Cherbourg', 'q': 'Queestown'}\n",
    "data_titanic['embarkation_city'].fillna('not_provided', inplace=True)\n",
    "\n",
    "adjust_city_name = dm.adjust_column_by(embarkation_cities, to_lower=False)\n",
    "\n",
    "data_titanic['embarkation_city'] = data_titanic['embarkation_city'].apply(adjust_city_name)\n",
    "data_titanic['embarkation_city'].unique()"
   ]
  },
  {
   "cell_type": "code",
   "execution_count": 10,
   "metadata": {},
   "outputs": [
    {
     "data": {
      "text/plain": [
       "array(['no', 'yes'], dtype=object)"
      ]
     },
     "execution_count": 10,
     "metadata": {},
     "output_type": "execute_result"
    }
   ],
   "source": [
    "# 3.4. ajuste coluna suvived\n",
    "# ajustes de conteúdo para deixar valors da coluna mais legíveis\n",
    "suvived_labels = {1:'yes', 0: 'no'}\n",
    "adjust_suvived_labels = dm.adjust_column_by(suvived_labels)\n",
    "\n",
    "data_titanic['survived'] = data_titanic['survived'].apply(adjust_suvived_labels)\n",
    "data_titanic['survived'].unique()"
   ]
  },
  {
   "cell_type": "code",
   "execution_count": 11,
   "metadata": {},
   "outputs": [
    {
     "data": {
      "text/plain": [
       "array(['third', 'first', 'second'], dtype=object)"
      ]
     },
     "execution_count": 11,
     "metadata": {},
     "output_type": "execute_result"
    }
   ],
   "source": [
    "# 3.5 ajuste coluna ticket_class\n",
    "# ajustes de conteúdo para deixar valors da coluna mais legíveis\n",
    "ticket_class_labels = {1:'first', 2:'second', 3:'third'}\n",
    "adjust_ticket_class_labels = dm.adjust_column_by(ticket_class_labels)\n",
    "\n",
    "data_titanic['ticket_class'] = data_titanic['ticket_class'].apply(adjust_ticket_class_labels)\n",
    "data_titanic['ticket_class'].unique()"
   ]
  },
  {
   "cell_type": "code",
   "execution_count": 12,
   "metadata": {},
   "outputs": [],
   "source": [
    "# reordenação das colunas\n",
    "data_titanic = data_titanic[['name', 'age', 'gender', 'ticket_class', 'fare', 'ticket_number','embarkation_city', 'siblings_or_spouses', 'parents_or_children', 'survived']]"
   ]
  },
  {
   "cell_type": "code",
   "execution_count": 13,
   "metadata": {},
   "outputs": [
    {
     "data": {
      "text/plain": [
       "(891, 10)"
      ]
     },
     "execution_count": 13,
     "metadata": {},
     "output_type": "execute_result"
    }
   ],
   "source": [
    "# dimensões do data frame\n",
    "data_titanic.shape"
   ]
  },
  {
   "cell_type": "code",
   "execution_count": 14,
   "metadata": {},
   "outputs": [
    {
     "data": {
      "text/html": [
       "<div>\n",
       "<style scoped>\n",
       "    .dataframe tbody tr th:only-of-type {\n",
       "        vertical-align: middle;\n",
       "    }\n",
       "\n",
       "    .dataframe tbody tr th {\n",
       "        vertical-align: top;\n",
       "    }\n",
       "\n",
       "    .dataframe thead th {\n",
       "        text-align: right;\n",
       "    }\n",
       "</style>\n",
       "<table border=\"1\" class=\"dataframe\">\n",
       "  <thead>\n",
       "    <tr style=\"text-align: right;\">\n",
       "      <th></th>\n",
       "      <th>name</th>\n",
       "      <th>age</th>\n",
       "      <th>gender</th>\n",
       "      <th>ticket_class</th>\n",
       "      <th>fare</th>\n",
       "      <th>ticket_number</th>\n",
       "      <th>embarkation_city</th>\n",
       "      <th>siblings_or_spouses</th>\n",
       "      <th>parents_or_children</th>\n",
       "      <th>survived</th>\n",
       "    </tr>\n",
       "  </thead>\n",
       "  <tbody>\n",
       "    <tr>\n",
       "      <th>0</th>\n",
       "      <td>Braund, Mr. Owen Harris</td>\n",
       "      <td>22.0</td>\n",
       "      <td>male</td>\n",
       "      <td>third</td>\n",
       "      <td>7.2500</td>\n",
       "      <td>A/5 21171</td>\n",
       "      <td>Southampton</td>\n",
       "      <td>1</td>\n",
       "      <td>0</td>\n",
       "      <td>no</td>\n",
       "    </tr>\n",
       "    <tr>\n",
       "      <th>1</th>\n",
       "      <td>Cumings, Mrs. John Bradley (Florence Briggs Th...</td>\n",
       "      <td>38.0</td>\n",
       "      <td>female</td>\n",
       "      <td>first</td>\n",
       "      <td>71.2833</td>\n",
       "      <td>PC 17599</td>\n",
       "      <td>Cherbourg</td>\n",
       "      <td>1</td>\n",
       "      <td>0</td>\n",
       "      <td>yes</td>\n",
       "    </tr>\n",
       "    <tr>\n",
       "      <th>2</th>\n",
       "      <td>Heikkinen, Miss. Laina</td>\n",
       "      <td>26.0</td>\n",
       "      <td>female</td>\n",
       "      <td>third</td>\n",
       "      <td>7.9250</td>\n",
       "      <td>STON/O2. 3101282</td>\n",
       "      <td>Southampton</td>\n",
       "      <td>0</td>\n",
       "      <td>0</td>\n",
       "      <td>yes</td>\n",
       "    </tr>\n",
       "    <tr>\n",
       "      <th>3</th>\n",
       "      <td>Futrelle, Mrs. Jacques Heath (Lily May Peel)</td>\n",
       "      <td>35.0</td>\n",
       "      <td>female</td>\n",
       "      <td>first</td>\n",
       "      <td>53.1000</td>\n",
       "      <td>113803</td>\n",
       "      <td>Southampton</td>\n",
       "      <td>1</td>\n",
       "      <td>0</td>\n",
       "      <td>yes</td>\n",
       "    </tr>\n",
       "    <tr>\n",
       "      <th>4</th>\n",
       "      <td>Allen, Mr. William Henry</td>\n",
       "      <td>35.0</td>\n",
       "      <td>male</td>\n",
       "      <td>third</td>\n",
       "      <td>8.0500</td>\n",
       "      <td>373450</td>\n",
       "      <td>Southampton</td>\n",
       "      <td>0</td>\n",
       "      <td>0</td>\n",
       "      <td>no</td>\n",
       "    </tr>\n",
       "  </tbody>\n",
       "</table>\n",
       "</div>"
      ],
      "text/plain": [
       "                                                name   age  gender  \\\n",
       "0                            Braund, Mr. Owen Harris  22.0    male   \n",
       "1  Cumings, Mrs. John Bradley (Florence Briggs Th...  38.0  female   \n",
       "2                             Heikkinen, Miss. Laina  26.0  female   \n",
       "3       Futrelle, Mrs. Jacques Heath (Lily May Peel)  35.0  female   \n",
       "4                           Allen, Mr. William Henry  35.0    male   \n",
       "\n",
       "  ticket_class     fare     ticket_number embarkation_city  \\\n",
       "0        third   7.2500         A/5 21171      Southampton   \n",
       "1        first  71.2833          PC 17599        Cherbourg   \n",
       "2        third   7.9250  STON/O2. 3101282      Southampton   \n",
       "3        first  53.1000            113803      Southampton   \n",
       "4        third   8.0500            373450      Southampton   \n",
       "\n",
       "   siblings_or_spouses  parents_or_children survived  \n",
       "0                    1                    0       no  \n",
       "1                    1                    0      yes  \n",
       "2                    0                    0      yes  \n",
       "3                    1                    0      yes  \n",
       "4                    0                    0       no  "
      ]
     },
     "execution_count": 14,
     "metadata": {},
     "output_type": "execute_result"
    }
   ],
   "source": [
    "# amostra dos 5 primeiros valores\n",
    "data_titanic.head(5)"
   ]
  },
  {
   "cell_type": "code",
   "execution_count": 15,
   "metadata": {},
   "outputs": [
    {
     "data": {
      "text/html": [
       "<style  type=\"text/css\" >\n",
       "    #T_22b9b71a_bf49_11e8_b6fa_985aebcf2443 th:nth-child(2) {\n",
       "          text-align: left;\n",
       "    }    #T_22b9b71a_bf49_11e8_b6fa_985aebcf2443 td:nth-child(2) {\n",
       "          text-align: left;\n",
       "    }    #T_22b9b71a_bf49_11e8_b6fa_985aebcf2443 th:nth-child(4) {\n",
       "          text-align: left;\n",
       "    }    #T_22b9b71a_bf49_11e8_b6fa_985aebcf2443 td:nth-child(4) {\n",
       "          text-align: left;\n",
       "    }    #T_22b9b71a_bf49_11e8_b6fa_985aebcf2443 th:nth-child(5) {\n",
       "          text-align: left;\n",
       "    }    #T_22b9b71a_bf49_11e8_b6fa_985aebcf2443 td:nth-child(5) {\n",
       "          text-align: left;\n",
       "    }    #T_22b9b71a_bf49_11e8_b6fa_985aebcf2443 th:nth-child(7) {\n",
       "          text-align: left;\n",
       "    }    #T_22b9b71a_bf49_11e8_b6fa_985aebcf2443 td:nth-child(7) {\n",
       "          text-align: left;\n",
       "    }    #T_22b9b71a_bf49_11e8_b6fa_985aebcf2443 th:nth-child(8) {\n",
       "          text-align: left;\n",
       "    }    #T_22b9b71a_bf49_11e8_b6fa_985aebcf2443 td:nth-child(8) {\n",
       "          text-align: left;\n",
       "    }    #T_22b9b71a_bf49_11e8_b6fa_985aebcf2443 th:nth-child(11) {\n",
       "          text-align: left;\n",
       "    }    #T_22b9b71a_bf49_11e8_b6fa_985aebcf2443 td:nth-child(11) {\n",
       "          text-align: left;\n",
       "    }</style>  \n",
       "<table id=\"T_22b9b71a_bf49_11e8_b6fa_985aebcf2443\" > \n",
       "<thead>    <tr> \n",
       "        <th class=\"blank level0\" ></th> \n",
       "        <th class=\"col_heading level0 col0\" >name</th> \n",
       "        <th class=\"col_heading level0 col1\" >age</th> \n",
       "        <th class=\"col_heading level0 col2\" >gender</th> \n",
       "        <th class=\"col_heading level0 col3\" >ticket_class</th> \n",
       "        <th class=\"col_heading level0 col4\" >fare</th> \n",
       "        <th class=\"col_heading level0 col5\" >ticket_number</th> \n",
       "        <th class=\"col_heading level0 col6\" >embarkation_city</th> \n",
       "        <th class=\"col_heading level0 col7\" >siblings_or_spouses</th> \n",
       "        <th class=\"col_heading level0 col8\" >parents_or_children</th> \n",
       "        <th class=\"col_heading level0 col9\" >survived</th> \n",
       "    </tr></thead> \n",
       "<tbody>    <tr> \n",
       "        <th id=\"T_22b9b71a_bf49_11e8_b6fa_985aebcf2443level0_row0\" class=\"row_heading level0 row0\" >0</th> \n",
       "        <td id=\"T_22b9b71a_bf49_11e8_b6fa_985aebcf2443row0_col0\" class=\"data row0 col0\" >Braund, Mr. Owen Harris</td> \n",
       "        <td id=\"T_22b9b71a_bf49_11e8_b6fa_985aebcf2443row0_col1\" class=\"data row0 col1\" >22</td> \n",
       "        <td id=\"T_22b9b71a_bf49_11e8_b6fa_985aebcf2443row0_col2\" class=\"data row0 col2\" >male</td> \n",
       "        <td id=\"T_22b9b71a_bf49_11e8_b6fa_985aebcf2443row0_col3\" class=\"data row0 col3\" >third</td> \n",
       "        <td id=\"T_22b9b71a_bf49_11e8_b6fa_985aebcf2443row0_col4\" class=\"data row0 col4\" >7.25</td> \n",
       "        <td id=\"T_22b9b71a_bf49_11e8_b6fa_985aebcf2443row0_col5\" class=\"data row0 col5\" >A/5 21171</td> \n",
       "        <td id=\"T_22b9b71a_bf49_11e8_b6fa_985aebcf2443row0_col6\" class=\"data row0 col6\" >Southampton</td> \n",
       "        <td id=\"T_22b9b71a_bf49_11e8_b6fa_985aebcf2443row0_col7\" class=\"data row0 col7\" >1</td> \n",
       "        <td id=\"T_22b9b71a_bf49_11e8_b6fa_985aebcf2443row0_col8\" class=\"data row0 col8\" >0</td> \n",
       "        <td id=\"T_22b9b71a_bf49_11e8_b6fa_985aebcf2443row0_col9\" class=\"data row0 col9\" >no</td> \n",
       "    </tr>    <tr> \n",
       "        <th id=\"T_22b9b71a_bf49_11e8_b6fa_985aebcf2443level0_row1\" class=\"row_heading level0 row1\" >1</th> \n",
       "        <td id=\"T_22b9b71a_bf49_11e8_b6fa_985aebcf2443row1_col0\" class=\"data row1 col0\" >Cumings, Mrs. John Bradley (Florence Briggs Thayer)</td> \n",
       "        <td id=\"T_22b9b71a_bf49_11e8_b6fa_985aebcf2443row1_col1\" class=\"data row1 col1\" >38</td> \n",
       "        <td id=\"T_22b9b71a_bf49_11e8_b6fa_985aebcf2443row1_col2\" class=\"data row1 col2\" >female</td> \n",
       "        <td id=\"T_22b9b71a_bf49_11e8_b6fa_985aebcf2443row1_col3\" class=\"data row1 col3\" >first</td> \n",
       "        <td id=\"T_22b9b71a_bf49_11e8_b6fa_985aebcf2443row1_col4\" class=\"data row1 col4\" >71.2833</td> \n",
       "        <td id=\"T_22b9b71a_bf49_11e8_b6fa_985aebcf2443row1_col5\" class=\"data row1 col5\" >PC 17599</td> \n",
       "        <td id=\"T_22b9b71a_bf49_11e8_b6fa_985aebcf2443row1_col6\" class=\"data row1 col6\" >Cherbourg</td> \n",
       "        <td id=\"T_22b9b71a_bf49_11e8_b6fa_985aebcf2443row1_col7\" class=\"data row1 col7\" >1</td> \n",
       "        <td id=\"T_22b9b71a_bf49_11e8_b6fa_985aebcf2443row1_col8\" class=\"data row1 col8\" >0</td> \n",
       "        <td id=\"T_22b9b71a_bf49_11e8_b6fa_985aebcf2443row1_col9\" class=\"data row1 col9\" >yes</td> \n",
       "    </tr>    <tr> \n",
       "        <th id=\"T_22b9b71a_bf49_11e8_b6fa_985aebcf2443level0_row2\" class=\"row_heading level0 row2\" >2</th> \n",
       "        <td id=\"T_22b9b71a_bf49_11e8_b6fa_985aebcf2443row2_col0\" class=\"data row2 col0\" >Heikkinen, Miss. Laina</td> \n",
       "        <td id=\"T_22b9b71a_bf49_11e8_b6fa_985aebcf2443row2_col1\" class=\"data row2 col1\" >26</td> \n",
       "        <td id=\"T_22b9b71a_bf49_11e8_b6fa_985aebcf2443row2_col2\" class=\"data row2 col2\" >female</td> \n",
       "        <td id=\"T_22b9b71a_bf49_11e8_b6fa_985aebcf2443row2_col3\" class=\"data row2 col3\" >third</td> \n",
       "        <td id=\"T_22b9b71a_bf49_11e8_b6fa_985aebcf2443row2_col4\" class=\"data row2 col4\" >7.925</td> \n",
       "        <td id=\"T_22b9b71a_bf49_11e8_b6fa_985aebcf2443row2_col5\" class=\"data row2 col5\" >STON/O2. 3101282</td> \n",
       "        <td id=\"T_22b9b71a_bf49_11e8_b6fa_985aebcf2443row2_col6\" class=\"data row2 col6\" >Southampton</td> \n",
       "        <td id=\"T_22b9b71a_bf49_11e8_b6fa_985aebcf2443row2_col7\" class=\"data row2 col7\" >0</td> \n",
       "        <td id=\"T_22b9b71a_bf49_11e8_b6fa_985aebcf2443row2_col8\" class=\"data row2 col8\" >0</td> \n",
       "        <td id=\"T_22b9b71a_bf49_11e8_b6fa_985aebcf2443row2_col9\" class=\"data row2 col9\" >yes</td> \n",
       "    </tr>    <tr> \n",
       "        <th id=\"T_22b9b71a_bf49_11e8_b6fa_985aebcf2443level0_row3\" class=\"row_heading level0 row3\" >3</th> \n",
       "        <td id=\"T_22b9b71a_bf49_11e8_b6fa_985aebcf2443row3_col0\" class=\"data row3 col0\" >Futrelle, Mrs. Jacques Heath (Lily May Peel)</td> \n",
       "        <td id=\"T_22b9b71a_bf49_11e8_b6fa_985aebcf2443row3_col1\" class=\"data row3 col1\" >35</td> \n",
       "        <td id=\"T_22b9b71a_bf49_11e8_b6fa_985aebcf2443row3_col2\" class=\"data row3 col2\" >female</td> \n",
       "        <td id=\"T_22b9b71a_bf49_11e8_b6fa_985aebcf2443row3_col3\" class=\"data row3 col3\" >first</td> \n",
       "        <td id=\"T_22b9b71a_bf49_11e8_b6fa_985aebcf2443row3_col4\" class=\"data row3 col4\" >53.1</td> \n",
       "        <td id=\"T_22b9b71a_bf49_11e8_b6fa_985aebcf2443row3_col5\" class=\"data row3 col5\" >113803</td> \n",
       "        <td id=\"T_22b9b71a_bf49_11e8_b6fa_985aebcf2443row3_col6\" class=\"data row3 col6\" >Southampton</td> \n",
       "        <td id=\"T_22b9b71a_bf49_11e8_b6fa_985aebcf2443row3_col7\" class=\"data row3 col7\" >1</td> \n",
       "        <td id=\"T_22b9b71a_bf49_11e8_b6fa_985aebcf2443row3_col8\" class=\"data row3 col8\" >0</td> \n",
       "        <td id=\"T_22b9b71a_bf49_11e8_b6fa_985aebcf2443row3_col9\" class=\"data row3 col9\" >yes</td> \n",
       "    </tr>    <tr> \n",
       "        <th id=\"T_22b9b71a_bf49_11e8_b6fa_985aebcf2443level0_row4\" class=\"row_heading level0 row4\" >4</th> \n",
       "        <td id=\"T_22b9b71a_bf49_11e8_b6fa_985aebcf2443row4_col0\" class=\"data row4 col0\" >Allen, Mr. William Henry</td> \n",
       "        <td id=\"T_22b9b71a_bf49_11e8_b6fa_985aebcf2443row4_col1\" class=\"data row4 col1\" >35</td> \n",
       "        <td id=\"T_22b9b71a_bf49_11e8_b6fa_985aebcf2443row4_col2\" class=\"data row4 col2\" >male</td> \n",
       "        <td id=\"T_22b9b71a_bf49_11e8_b6fa_985aebcf2443row4_col3\" class=\"data row4 col3\" >third</td> \n",
       "        <td id=\"T_22b9b71a_bf49_11e8_b6fa_985aebcf2443row4_col4\" class=\"data row4 col4\" >8.05</td> \n",
       "        <td id=\"T_22b9b71a_bf49_11e8_b6fa_985aebcf2443row4_col5\" class=\"data row4 col5\" >373450</td> \n",
       "        <td id=\"T_22b9b71a_bf49_11e8_b6fa_985aebcf2443row4_col6\" class=\"data row4 col6\" >Southampton</td> \n",
       "        <td id=\"T_22b9b71a_bf49_11e8_b6fa_985aebcf2443row4_col7\" class=\"data row4 col7\" >0</td> \n",
       "        <td id=\"T_22b9b71a_bf49_11e8_b6fa_985aebcf2443row4_col8\" class=\"data row4 col8\" >0</td> \n",
       "        <td id=\"T_22b9b71a_bf49_11e8_b6fa_985aebcf2443row4_col9\" class=\"data row4 col9\" >no</td> \n",
       "    </tr></tbody> \n",
       "</table> "
      ],
      "text/plain": [
       "<pandas.io.formats.style.Styler at 0x1a20f82b00>"
      ]
     },
     "execution_count": 15,
     "metadata": {},
     "output_type": "execute_result"
    }
   ],
   "source": [
    "# amostra com dados formatos\n",
    "tab.format_table(data_titanic.head(5))"
   ]
  },
  {
   "cell_type": "markdown",
   "metadata": {},
   "source": [
    "### Exportação dos dados\n",
    "Finalizado o processo de limpeza, dos dados foram convertidos para o formato .csv para serem analisados."
   ]
  },
  {
   "cell_type": "code",
   "execution_count": 16,
   "metadata": {},
   "outputs": [],
   "source": [
    "data_titanic.to_csv('data_titanic_clean', index=False)"
   ]
  }
 ],
 "metadata": {
  "kernelspec": {
   "display_name": "Python 3",
   "language": "python",
   "name": "python3"
  },
  "language_info": {
   "codemirror_mode": {
    "name": "ipython",
    "version": 3
   },
   "file_extension": ".py",
   "mimetype": "text/x-python",
   "name": "python",
   "nbconvert_exporter": "python",
   "pygments_lexer": "ipython3",
   "version": "3.6.6"
  }
 },
 "nbformat": 4,
 "nbformat_minor": 2
}
