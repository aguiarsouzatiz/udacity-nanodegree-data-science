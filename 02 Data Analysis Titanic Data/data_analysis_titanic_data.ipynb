{
 "cells": [
  {
   "cell_type": "markdown",
   "metadata": {
    "slideshow": {
     "slide_type": "slide"
    }
   },
   "source": [
    "\n",
    "\n",
    "\n",
    "# Análise exploratória de dados do Titanic"
   ]
  },
  {
   "cell_type": "markdown",
   "metadata": {},
   "source": [
    "## Resumo\n",
    "---\n",
    " \n",
    " [Introdução](#Introdução)\n",
    "\n",
    " [Conjunto de dados](#Conjunto-de-dados)\n",
    " \n",
    " [Ferramentas](#Ferramentas)\n",
    "\n",
    " [Questões-chave](#Questões-chave)\n",
    "\n",
    " Considerações\n",
    "\n",
    " [Referências](#Referências)"
   ]
  },
  {
   "cell_type": "markdown",
   "metadata": {},
   "source": [
    " # Introdução\n",
    " ..."
   ]
  },
  {
   "cell_type": "markdown",
   "metadata": {},
   "source": [
    "# Ferramentas\n",
    "\n",
    "Para análise foi utilizada a linguagem Python e suas bibliotecas: **pandas** para estrutura e manipulação de dados; **numpy** para operação com matrizes e vertores; **matplotlib** e **seaborn** para visualização de dados; **funções personalizadas** para manipulação dos dados; **formatação de tabela** personalizada para aprimorar a exibição dos dados."
   ]
  },
  {
   "cell_type": "code",
   "execution_count": 2,
   "metadata": {},
   "outputs": [],
   "source": [
    "# bibliotecas usadas para análise\n",
    "import pandas as pd\n",
    "import numpy as np\n",
    "import matplotlib.pyplot as plt\n",
    "import seaborn as sns\n",
    "% matplotlib inline\n",
    "import warnings\n",
    "warnings.filterwarnings('ignore')\n",
    "\n",
    "plt.style.use('seaborn')\n",
    "\n",
    "# bibliotecas complementares para análise\n",
    "from data.data_modules import data_manipulation_functions as dm\n",
    "from data.data_modules import data_plot_functions as pf\n",
    "from data.data_modules import data_table_format as tab\n",
    "from data.data_modules import data_styles_main as st"
   ]
  },
  {
   "cell_type": "markdown",
   "metadata": {},
   "source": [
    "# Conjunto de dados\n",
    "\n",
    "#### Fonte\n",
    "A análise foi feita com os dados fornecidos pela Udacity a partir de uma amostra do site Kaggle.  \n",
    "Para mais detalhes, esse é o link para a fonte dos dados https://www.kaggle.com/c/titanic/data\n",
    "\n",
    "#### Preparação dos dados\n",
    "Para deixar os dados mais legíveis e consistentes de modo a preservar a informação, os dados passaram por um processo de limpeza. Durante a execução, algumas colunas foram avaliadas com relação à qualidade e pertinência de serem utilizadas na análise. Assim, dentre as 12 colunas foram delimitadas as seguintes 10 colunas:\n",
    "\n",
    "- **survived** (informa se sobreviveu)\n",
    "- **ticket_class** (classe da passagem)\n",
    "- **name** (nome)\n",
    "- **gender** (sexo)\n",
    "- **age** (idade)\n",
    "- **siblings_or_spouses** (quantidade de irmãs(ãos) ou  cônjuges)\n",
    "- **parents_or_children** (quantidade de pais ou filhas(os))\n",
    "- **ticket_number** (número do bilhete)\n",
    "- **fare** (tarifa paga) \n",
    "- **embarkation_city** (cidade de embarque)\n",
    "\n",
    "Dentre as colunas, a que contém os dados referentes a idade possuia cerca de 80% dos dados completos. Para permitir cruzamentos entre outras variáveis, os cerca de 20% de dados foram preenchidos de modo randômico de modo a preservar a proporção de diferençãs de idade dos dados completos.\n",
    "\n",
    "O passo a passo realizado pode ser verificado em [/data/data_wrangling.ipynb](./data/data_wrangling.ipynb)"
   ]
  },
  {
   "cell_type": "code",
   "execution_count": 3,
   "metadata": {},
   "outputs": [
    {
     "data": {
      "text/html": [
       "<style  type=\"text/css\" >\n",
       "    #T_b9589854_c14b_11e8_8577_985aebcf2443 th:nth-child(2) {\n",
       "          text-align: left;\n",
       "    }    #T_b9589854_c14b_11e8_8577_985aebcf2443 td:nth-child(2) {\n",
       "          text-align: left;\n",
       "    }    #T_b9589854_c14b_11e8_8577_985aebcf2443 th:nth-child(4) {\n",
       "          text-align: left;\n",
       "    }    #T_b9589854_c14b_11e8_8577_985aebcf2443 td:nth-child(4) {\n",
       "          text-align: left;\n",
       "    }    #T_b9589854_c14b_11e8_8577_985aebcf2443 th:nth-child(5) {\n",
       "          text-align: left;\n",
       "    }    #T_b9589854_c14b_11e8_8577_985aebcf2443 td:nth-child(5) {\n",
       "          text-align: left;\n",
       "    }    #T_b9589854_c14b_11e8_8577_985aebcf2443 th:nth-child(7) {\n",
       "          text-align: left;\n",
       "    }    #T_b9589854_c14b_11e8_8577_985aebcf2443 td:nth-child(7) {\n",
       "          text-align: left;\n",
       "    }    #T_b9589854_c14b_11e8_8577_985aebcf2443 th:nth-child(8) {\n",
       "          text-align: left;\n",
       "    }    #T_b9589854_c14b_11e8_8577_985aebcf2443 td:nth-child(8) {\n",
       "          text-align: left;\n",
       "    }    #T_b9589854_c14b_11e8_8577_985aebcf2443 th:nth-child(11) {\n",
       "          text-align: left;\n",
       "    }    #T_b9589854_c14b_11e8_8577_985aebcf2443 td:nth-child(11) {\n",
       "          text-align: left;\n",
       "    }</style>  \n",
       "<table id=\"T_b9589854_c14b_11e8_8577_985aebcf2443\" > \n",
       "<thead>    <tr> \n",
       "        <th class=\"blank level0\" ></th> \n",
       "        <th class=\"col_heading level0 col0\" >name</th> \n",
       "        <th class=\"col_heading level0 col1\" >age</th> \n",
       "        <th class=\"col_heading level0 col2\" >gender</th> \n",
       "        <th class=\"col_heading level0 col3\" >ticket_class</th> \n",
       "        <th class=\"col_heading level0 col4\" >fare</th> \n",
       "        <th class=\"col_heading level0 col5\" >ticket_number</th> \n",
       "        <th class=\"col_heading level0 col6\" >embarkation_city</th> \n",
       "        <th class=\"col_heading level0 col7\" >siblings_or_spouses</th> \n",
       "        <th class=\"col_heading level0 col8\" >parents_or_children</th> \n",
       "        <th class=\"col_heading level0 col9\" >survived</th> \n",
       "    </tr></thead> \n",
       "<tbody>    <tr> \n",
       "        <th id=\"T_b9589854_c14b_11e8_8577_985aebcf2443level0_row0\" class=\"row_heading level0 row0\" >0</th> \n",
       "        <td id=\"T_b9589854_c14b_11e8_8577_985aebcf2443row0_col0\" class=\"data row0 col0\" >Braund, Mr. Owen Harris</td> \n",
       "        <td id=\"T_b9589854_c14b_11e8_8577_985aebcf2443row0_col1\" class=\"data row0 col1\" >22</td> \n",
       "        <td id=\"T_b9589854_c14b_11e8_8577_985aebcf2443row0_col2\" class=\"data row0 col2\" >male</td> \n",
       "        <td id=\"T_b9589854_c14b_11e8_8577_985aebcf2443row0_col3\" class=\"data row0 col3\" >third</td> \n",
       "        <td id=\"T_b9589854_c14b_11e8_8577_985aebcf2443row0_col4\" class=\"data row0 col4\" >7.25</td> \n",
       "        <td id=\"T_b9589854_c14b_11e8_8577_985aebcf2443row0_col5\" class=\"data row0 col5\" >A/5 21171</td> \n",
       "        <td id=\"T_b9589854_c14b_11e8_8577_985aebcf2443row0_col6\" class=\"data row0 col6\" >Southampton</td> \n",
       "        <td id=\"T_b9589854_c14b_11e8_8577_985aebcf2443row0_col7\" class=\"data row0 col7\" >1</td> \n",
       "        <td id=\"T_b9589854_c14b_11e8_8577_985aebcf2443row0_col8\" class=\"data row0 col8\" >0</td> \n",
       "        <td id=\"T_b9589854_c14b_11e8_8577_985aebcf2443row0_col9\" class=\"data row0 col9\" >no</td> \n",
       "    </tr>    <tr> \n",
       "        <th id=\"T_b9589854_c14b_11e8_8577_985aebcf2443level0_row1\" class=\"row_heading level0 row1\" >1</th> \n",
       "        <td id=\"T_b9589854_c14b_11e8_8577_985aebcf2443row1_col0\" class=\"data row1 col0\" >Cumings, Mrs. John Bradley (Florence Briggs Thayer)</td> \n",
       "        <td id=\"T_b9589854_c14b_11e8_8577_985aebcf2443row1_col1\" class=\"data row1 col1\" >38</td> \n",
       "        <td id=\"T_b9589854_c14b_11e8_8577_985aebcf2443row1_col2\" class=\"data row1 col2\" >female</td> \n",
       "        <td id=\"T_b9589854_c14b_11e8_8577_985aebcf2443row1_col3\" class=\"data row1 col3\" >first</td> \n",
       "        <td id=\"T_b9589854_c14b_11e8_8577_985aebcf2443row1_col4\" class=\"data row1 col4\" >71.2833</td> \n",
       "        <td id=\"T_b9589854_c14b_11e8_8577_985aebcf2443row1_col5\" class=\"data row1 col5\" >PC 17599</td> \n",
       "        <td id=\"T_b9589854_c14b_11e8_8577_985aebcf2443row1_col6\" class=\"data row1 col6\" >Cherbourg</td> \n",
       "        <td id=\"T_b9589854_c14b_11e8_8577_985aebcf2443row1_col7\" class=\"data row1 col7\" >1</td> \n",
       "        <td id=\"T_b9589854_c14b_11e8_8577_985aebcf2443row1_col8\" class=\"data row1 col8\" >0</td> \n",
       "        <td id=\"T_b9589854_c14b_11e8_8577_985aebcf2443row1_col9\" class=\"data row1 col9\" >yes</td> \n",
       "    </tr>    <tr> \n",
       "        <th id=\"T_b9589854_c14b_11e8_8577_985aebcf2443level0_row2\" class=\"row_heading level0 row2\" >2</th> \n",
       "        <td id=\"T_b9589854_c14b_11e8_8577_985aebcf2443row2_col0\" class=\"data row2 col0\" >Heikkinen, Miss. Laina</td> \n",
       "        <td id=\"T_b9589854_c14b_11e8_8577_985aebcf2443row2_col1\" class=\"data row2 col1\" >26</td> \n",
       "        <td id=\"T_b9589854_c14b_11e8_8577_985aebcf2443row2_col2\" class=\"data row2 col2\" >female</td> \n",
       "        <td id=\"T_b9589854_c14b_11e8_8577_985aebcf2443row2_col3\" class=\"data row2 col3\" >third</td> \n",
       "        <td id=\"T_b9589854_c14b_11e8_8577_985aebcf2443row2_col4\" class=\"data row2 col4\" >7.925</td> \n",
       "        <td id=\"T_b9589854_c14b_11e8_8577_985aebcf2443row2_col5\" class=\"data row2 col5\" >STON/O2. 3101282</td> \n",
       "        <td id=\"T_b9589854_c14b_11e8_8577_985aebcf2443row2_col6\" class=\"data row2 col6\" >Southampton</td> \n",
       "        <td id=\"T_b9589854_c14b_11e8_8577_985aebcf2443row2_col7\" class=\"data row2 col7\" >0</td> \n",
       "        <td id=\"T_b9589854_c14b_11e8_8577_985aebcf2443row2_col8\" class=\"data row2 col8\" >0</td> \n",
       "        <td id=\"T_b9589854_c14b_11e8_8577_985aebcf2443row2_col9\" class=\"data row2 col9\" >yes</td> \n",
       "    </tr>    <tr> \n",
       "        <th id=\"T_b9589854_c14b_11e8_8577_985aebcf2443level0_row3\" class=\"row_heading level0 row3\" >3</th> \n",
       "        <td id=\"T_b9589854_c14b_11e8_8577_985aebcf2443row3_col0\" class=\"data row3 col0\" >Futrelle, Mrs. Jacques Heath (Lily May Peel)</td> \n",
       "        <td id=\"T_b9589854_c14b_11e8_8577_985aebcf2443row3_col1\" class=\"data row3 col1\" >35</td> \n",
       "        <td id=\"T_b9589854_c14b_11e8_8577_985aebcf2443row3_col2\" class=\"data row3 col2\" >female</td> \n",
       "        <td id=\"T_b9589854_c14b_11e8_8577_985aebcf2443row3_col3\" class=\"data row3 col3\" >first</td> \n",
       "        <td id=\"T_b9589854_c14b_11e8_8577_985aebcf2443row3_col4\" class=\"data row3 col4\" >53.1</td> \n",
       "        <td id=\"T_b9589854_c14b_11e8_8577_985aebcf2443row3_col5\" class=\"data row3 col5\" >113803</td> \n",
       "        <td id=\"T_b9589854_c14b_11e8_8577_985aebcf2443row3_col6\" class=\"data row3 col6\" >Southampton</td> \n",
       "        <td id=\"T_b9589854_c14b_11e8_8577_985aebcf2443row3_col7\" class=\"data row3 col7\" >1</td> \n",
       "        <td id=\"T_b9589854_c14b_11e8_8577_985aebcf2443row3_col8\" class=\"data row3 col8\" >0</td> \n",
       "        <td id=\"T_b9589854_c14b_11e8_8577_985aebcf2443row3_col9\" class=\"data row3 col9\" >yes</td> \n",
       "    </tr>    <tr> \n",
       "        <th id=\"T_b9589854_c14b_11e8_8577_985aebcf2443level0_row4\" class=\"row_heading level0 row4\" >4</th> \n",
       "        <td id=\"T_b9589854_c14b_11e8_8577_985aebcf2443row4_col0\" class=\"data row4 col0\" >Allen, Mr. William Henry</td> \n",
       "        <td id=\"T_b9589854_c14b_11e8_8577_985aebcf2443row4_col1\" class=\"data row4 col1\" >35</td> \n",
       "        <td id=\"T_b9589854_c14b_11e8_8577_985aebcf2443row4_col2\" class=\"data row4 col2\" >male</td> \n",
       "        <td id=\"T_b9589854_c14b_11e8_8577_985aebcf2443row4_col3\" class=\"data row4 col3\" >third</td> \n",
       "        <td id=\"T_b9589854_c14b_11e8_8577_985aebcf2443row4_col4\" class=\"data row4 col4\" >8.05</td> \n",
       "        <td id=\"T_b9589854_c14b_11e8_8577_985aebcf2443row4_col5\" class=\"data row4 col5\" >373450</td> \n",
       "        <td id=\"T_b9589854_c14b_11e8_8577_985aebcf2443row4_col6\" class=\"data row4 col6\" >Southampton</td> \n",
       "        <td id=\"T_b9589854_c14b_11e8_8577_985aebcf2443row4_col7\" class=\"data row4 col7\" >0</td> \n",
       "        <td id=\"T_b9589854_c14b_11e8_8577_985aebcf2443row4_col8\" class=\"data row4 col8\" >0</td> \n",
       "        <td id=\"T_b9589854_c14b_11e8_8577_985aebcf2443row4_col9\" class=\"data row4 col9\" >no</td> \n",
       "    </tr>    <tr> \n",
       "        <th id=\"T_b9589854_c14b_11e8_8577_985aebcf2443level0_row5\" class=\"row_heading level0 row5\" >5</th> \n",
       "        <td id=\"T_b9589854_c14b_11e8_8577_985aebcf2443row5_col0\" class=\"data row5 col0\" >Moran, Mr. James</td> \n",
       "        <td id=\"T_b9589854_c14b_11e8_8577_985aebcf2443row5_col1\" class=\"data row5 col1\" >20.9</td> \n",
       "        <td id=\"T_b9589854_c14b_11e8_8577_985aebcf2443row5_col2\" class=\"data row5 col2\" >male</td> \n",
       "        <td id=\"T_b9589854_c14b_11e8_8577_985aebcf2443row5_col3\" class=\"data row5 col3\" >third</td> \n",
       "        <td id=\"T_b9589854_c14b_11e8_8577_985aebcf2443row5_col4\" class=\"data row5 col4\" >8.4583</td> \n",
       "        <td id=\"T_b9589854_c14b_11e8_8577_985aebcf2443row5_col5\" class=\"data row5 col5\" >330877</td> \n",
       "        <td id=\"T_b9589854_c14b_11e8_8577_985aebcf2443row5_col6\" class=\"data row5 col6\" >Queestown</td> \n",
       "        <td id=\"T_b9589854_c14b_11e8_8577_985aebcf2443row5_col7\" class=\"data row5 col7\" >0</td> \n",
       "        <td id=\"T_b9589854_c14b_11e8_8577_985aebcf2443row5_col8\" class=\"data row5 col8\" >0</td> \n",
       "        <td id=\"T_b9589854_c14b_11e8_8577_985aebcf2443row5_col9\" class=\"data row5 col9\" >no</td> \n",
       "    </tr>    <tr> \n",
       "        <th id=\"T_b9589854_c14b_11e8_8577_985aebcf2443level0_row6\" class=\"row_heading level0 row6\" >6</th> \n",
       "        <td id=\"T_b9589854_c14b_11e8_8577_985aebcf2443row6_col0\" class=\"data row6 col0\" >McCarthy, Mr. Timothy J</td> \n",
       "        <td id=\"T_b9589854_c14b_11e8_8577_985aebcf2443row6_col1\" class=\"data row6 col1\" >54</td> \n",
       "        <td id=\"T_b9589854_c14b_11e8_8577_985aebcf2443row6_col2\" class=\"data row6 col2\" >male</td> \n",
       "        <td id=\"T_b9589854_c14b_11e8_8577_985aebcf2443row6_col3\" class=\"data row6 col3\" >first</td> \n",
       "        <td id=\"T_b9589854_c14b_11e8_8577_985aebcf2443row6_col4\" class=\"data row6 col4\" >51.8625</td> \n",
       "        <td id=\"T_b9589854_c14b_11e8_8577_985aebcf2443row6_col5\" class=\"data row6 col5\" >17463</td> \n",
       "        <td id=\"T_b9589854_c14b_11e8_8577_985aebcf2443row6_col6\" class=\"data row6 col6\" >Southampton</td> \n",
       "        <td id=\"T_b9589854_c14b_11e8_8577_985aebcf2443row6_col7\" class=\"data row6 col7\" >0</td> \n",
       "        <td id=\"T_b9589854_c14b_11e8_8577_985aebcf2443row6_col8\" class=\"data row6 col8\" >0</td> \n",
       "        <td id=\"T_b9589854_c14b_11e8_8577_985aebcf2443row6_col9\" class=\"data row6 col9\" >no</td> \n",
       "    </tr>    <tr> \n",
       "        <th id=\"T_b9589854_c14b_11e8_8577_985aebcf2443level0_row7\" class=\"row_heading level0 row7\" >7</th> \n",
       "        <td id=\"T_b9589854_c14b_11e8_8577_985aebcf2443row7_col0\" class=\"data row7 col0\" >Palsson, Master. Gosta Leonard</td> \n",
       "        <td id=\"T_b9589854_c14b_11e8_8577_985aebcf2443row7_col1\" class=\"data row7 col1\" >2</td> \n",
       "        <td id=\"T_b9589854_c14b_11e8_8577_985aebcf2443row7_col2\" class=\"data row7 col2\" >male</td> \n",
       "        <td id=\"T_b9589854_c14b_11e8_8577_985aebcf2443row7_col3\" class=\"data row7 col3\" >third</td> \n",
       "        <td id=\"T_b9589854_c14b_11e8_8577_985aebcf2443row7_col4\" class=\"data row7 col4\" >21.075</td> \n",
       "        <td id=\"T_b9589854_c14b_11e8_8577_985aebcf2443row7_col5\" class=\"data row7 col5\" >349909</td> \n",
       "        <td id=\"T_b9589854_c14b_11e8_8577_985aebcf2443row7_col6\" class=\"data row7 col6\" >Southampton</td> \n",
       "        <td id=\"T_b9589854_c14b_11e8_8577_985aebcf2443row7_col7\" class=\"data row7 col7\" >3</td> \n",
       "        <td id=\"T_b9589854_c14b_11e8_8577_985aebcf2443row7_col8\" class=\"data row7 col8\" >1</td> \n",
       "        <td id=\"T_b9589854_c14b_11e8_8577_985aebcf2443row7_col9\" class=\"data row7 col9\" >no</td> \n",
       "    </tr>    <tr> \n",
       "        <th id=\"T_b9589854_c14b_11e8_8577_985aebcf2443level0_row8\" class=\"row_heading level0 row8\" >8</th> \n",
       "        <td id=\"T_b9589854_c14b_11e8_8577_985aebcf2443row8_col0\" class=\"data row8 col0\" >Johnson, Mrs. Oscar W (Elisabeth Vilhelmina Berg)</td> \n",
       "        <td id=\"T_b9589854_c14b_11e8_8577_985aebcf2443row8_col1\" class=\"data row8 col1\" >27</td> \n",
       "        <td id=\"T_b9589854_c14b_11e8_8577_985aebcf2443row8_col2\" class=\"data row8 col2\" >female</td> \n",
       "        <td id=\"T_b9589854_c14b_11e8_8577_985aebcf2443row8_col3\" class=\"data row8 col3\" >third</td> \n",
       "        <td id=\"T_b9589854_c14b_11e8_8577_985aebcf2443row8_col4\" class=\"data row8 col4\" >11.1333</td> \n",
       "        <td id=\"T_b9589854_c14b_11e8_8577_985aebcf2443row8_col5\" class=\"data row8 col5\" >347742</td> \n",
       "        <td id=\"T_b9589854_c14b_11e8_8577_985aebcf2443row8_col6\" class=\"data row8 col6\" >Southampton</td> \n",
       "        <td id=\"T_b9589854_c14b_11e8_8577_985aebcf2443row8_col7\" class=\"data row8 col7\" >0</td> \n",
       "        <td id=\"T_b9589854_c14b_11e8_8577_985aebcf2443row8_col8\" class=\"data row8 col8\" >2</td> \n",
       "        <td id=\"T_b9589854_c14b_11e8_8577_985aebcf2443row8_col9\" class=\"data row8 col9\" >yes</td> \n",
       "    </tr>    <tr> \n",
       "        <th id=\"T_b9589854_c14b_11e8_8577_985aebcf2443level0_row9\" class=\"row_heading level0 row9\" >9</th> \n",
       "        <td id=\"T_b9589854_c14b_11e8_8577_985aebcf2443row9_col0\" class=\"data row9 col0\" >Nasser, Mrs. Nicholas (Adele Achem)</td> \n",
       "        <td id=\"T_b9589854_c14b_11e8_8577_985aebcf2443row9_col1\" class=\"data row9 col1\" >14</td> \n",
       "        <td id=\"T_b9589854_c14b_11e8_8577_985aebcf2443row9_col2\" class=\"data row9 col2\" >female</td> \n",
       "        <td id=\"T_b9589854_c14b_11e8_8577_985aebcf2443row9_col3\" class=\"data row9 col3\" >second</td> \n",
       "        <td id=\"T_b9589854_c14b_11e8_8577_985aebcf2443row9_col4\" class=\"data row9 col4\" >30.0708</td> \n",
       "        <td id=\"T_b9589854_c14b_11e8_8577_985aebcf2443row9_col5\" class=\"data row9 col5\" >237736</td> \n",
       "        <td id=\"T_b9589854_c14b_11e8_8577_985aebcf2443row9_col6\" class=\"data row9 col6\" >Cherbourg</td> \n",
       "        <td id=\"T_b9589854_c14b_11e8_8577_985aebcf2443row9_col7\" class=\"data row9 col7\" >1</td> \n",
       "        <td id=\"T_b9589854_c14b_11e8_8577_985aebcf2443row9_col8\" class=\"data row9 col8\" >0</td> \n",
       "        <td id=\"T_b9589854_c14b_11e8_8577_985aebcf2443row9_col9\" class=\"data row9 col9\" >yes</td> \n",
       "    </tr></tbody> \n",
       "</table> "
      ],
      "text/plain": [
       "<pandas.io.formats.style.Styler at 0x10646e550>"
      ]
     },
     "execution_count": 3,
     "metadata": {},
     "output_type": "execute_result"
    }
   ],
   "source": [
    "# carregamento dos dados\n",
    "data_titanic = pd.read_csv('./data/data_titanic_clean')\n",
    "\n",
    "# exibição das 3 primeiras linhas do conjunto de dados\n",
    "tab.format_table(data_titanic.head(10))"
   ]
  },
  {
   "cell_type": "markdown",
   "metadata": {},
   "source": [
    "Além do conjunto de dados a partir da preparação, no decorrer da análise, novas combinações entre os dados foram realizadas conforme podem ser conferidas abaixo: "
   ]
  },
  {
   "cell_type": "code",
   "execution_count": 4,
   "metadata": {},
   "outputs": [],
   "source": [
    "# destino das pessoas\n",
    "survivors = data_titanic.query('survived == \"yes\"')\n",
    "victims = data_titanic.query('survived == \"no\"')\n",
    "\n",
    "# viajantes sós vs acompanhados\n",
    "alone = data_titanic.query('siblings_or_spouses == 0 and parents_or_children == 0')\n",
    "group = data_titanic.query('siblings_or_spouses != 0 and parents_or_children != 0')\n",
    "data_titanic['companion'] = pd.DataFrame({'companion':['alone']*len(alone.index)}, index=alone.index)\n",
    "data_titanic['companion'].fillna('group', inplace=True)\n",
    "\n",
    "# embarque\n",
    "embarkation_cities = data_titanic.query('embarkation_city != \"not_provided\"')\n",
    "\n",
    "# idade\n",
    "data_titanic['maturity'] = data_titanic['age'].apply(lambda age: 'adult' if age < 18 else 'child')\n",
    "adults = data_titanic.query('age > 18')\n",
    "kids = data_titanic.query('age <= 18')\n",
    "\n",
    "# cruzamentos entre conjunto de dados\n",
    "companion_x_destiny = pd.crosstab(data_titanic['companion'], data_titanic['survived'], normalize='all')"
   ]
  },
  {
   "cell_type": "markdown",
   "metadata": {},
   "source": [
    "#### Descrição da amostra\n",
    "A amostra contém **891** dados que representam cerca de **20%** da quantidade total de **2224** referentes às pessoas presentes no navio. Por possuir apenas informações sobre a classe do tipo de passagem comprada, podemos inferir que essa **amostra é delimitada aos passageiros** do navio o que deixa de fora, assim, informações sobre a tripulação."
   ]
  },
  {
   "cell_type": "markdown",
   "metadata": {},
   "source": [
    "# Questões-chave\n",
    "A investigação feita buscou focar em temas relacionados a idade, gênero e econômico a partir da amostra de dados do Titanic. Para chegar às questões da análise, primeiramente foram elaboradas algumas questões iniciais antes da limpeza dos dados e outras questões depois.\n",
    "Assim, como resultado, as seguintes questões-chave foram elencadas:\n",
    "\n",
    "#### Questões iniciais\n",
    "- Pessoas com maior poder aquisitivo também foram as que mais sobreviveram à tragédia?\n",
    "- É possível confirmar a crença de que mulheres e crianças são prioridade no salvamento dentre as pessoas passageiras?\n",
    "\n",
    "#### Questões a partir da limpeza dos dados\n",
    "- É possível afirmar que houve uma grande diferença dentre sobreviventes considerando seu local de embarque?\n",
    "- Pessoas que viajaram sozinhas tiveram mais chances de sobreviver?"
   ]
  },
  {
   "cell_type": "markdown",
   "metadata": {},
   "source": [
    "### Pessoas com maior poder aquisitivo também foram as que mais sobreviveram à tragédia?"
   ]
  },
  {
   "cell_type": "markdown",
   "metadata": {},
   "source": [
    "Há duas variáveis no conjunto de dados que indicam poder aquisitivo: **ticket_class**(classe da passagem) e  **fare** (tarifa paga). Ambas ficam restritas ao contexto da viagem e outros bens como imóveis ou heranças não foram informados. Para efeito da análise, vamos considerar, principalmente, pessoas com alto poder aquisitivo àquelas da primeira classe e com alto valor de tarifa pago e pessoas com baixo poder aquisitivo o contrário."
   ]
  },
  {
   "cell_type": "markdown",
   "metadata": {},
   "source": [
    "A classe da passagem faz uma divisão em 3 tipos que, a princípio, sugere ser da mais cara para mais barata: primeira, segunda e terceira. Por si só já seria um critério que aponta, no geral, para o poder aquisitivo da pessoa. No entanto precisamos considerar que há casos de descontos da passagem (até mesmo não pagamento)."
   ]
  },
  {
   "cell_type": "code",
   "execution_count": 5,
   "metadata": {
    "scrolled": true
   },
   "outputs": [
    {
     "data": {
      "text/plain": [
       "{'first': {0.0: 5}, 'second': {0.0: 6}, 'third': {0.0: 4}}"
      ]
     },
     "execution_count": 5,
     "metadata": {},
     "output_type": "execute_result"
    }
   ],
   "source": [
    "# quantidade de pessoas que não pagaram por classe de passagem\n",
    "pd.crosstab(data_titanic.query('fare == 0')['fare'], data_titanic['ticket_class']).to_dict()"
   ]
  },
  {
   "cell_type": "markdown",
   "metadata": {},
   "source": [
    "Dada a sugestão inicial, há de fato uma correspondência entre tipo de classe e valor pago na tarifa de fato nessa amostra?"
   ]
  },
  {
   "cell_type": "code",
   "execution_count": 6,
   "metadata": {},
   "outputs": [
    {
     "data": {
      "image/png": "[encoded data removed]",
      "text/plain": [
       "<matplotlib.figure.Figure at 0x1a19708390>"
      ]
     },
     "metadata": {
      "needs_background": "light"
     },
     "output_type": "display_data"
    }
   ],
   "source": [
    "figure, ax = plt.subplots(1,1, figsize=(20,2))\n",
    "# ----------------------------------------------------------------------------------------------------\n",
    "fare_ticket_class = sns.boxplot(y='ticket_class', x='fare', data=data_titanic,\\\n",
    "            palette=st.palette_classes, order=['first', 'second', 'third'])\n",
    "pf.set_title(fare_ticket_class, 'Fare by ticket class ')\n",
    "# ----------------------------------------------------------------------------------------------------\n",
    "figure.show()"
   ]
  },
  {
   "cell_type": "markdown",
   "metadata": {},
   "source": [
    "Por meio da gráfico podemos confirmar que sim os valores da tarifa correspondem no geral, com exceção de alguns outliers (valores com anomalia em relação ao todo), ao tipo de classe de passagem: da primeira com tarifa maior até a terceira com tarifa menor."
   ]
  },
  {
   "cell_type": "code",
   "execution_count": 10,
   "metadata": {},
   "outputs": [
    {
     "data": {
      "image/png": "[encoded data removed]",
      "text/plain": [
       "<matplotlib.figure.Figure at 0x1a1a2d4160>"
      ]
     },
     "metadata": {
      "needs_background": "light"
     },
     "output_type": "display_data"
    }
   ],
   "source": [
    "figure, ax = plt.subplots(1,1, sharex='col', sharey='row', figsize=(15,6))\n",
    "# ----------------------------------------------------------------------------------------------------\n",
    "fare_ticket_class_destiny = sns.violinplot(x='survived', y='fare', order=['yes','no'], data=data_titanic,\\\n",
    "                                   hue_order=['first','second','third'], hue='ticket_class',\\\n",
    "                                   palette=st.palette_classes, linewidth=0.8, )\n",
    "pf.set_title(fare_ticket_class_destiny, 'Fare between survivors and victms\\n by ticket class')\n",
    "# ----------------------------------------------------------------------------------------------------\n",
    "figure.show()"
   ]
  },
  {
   "cell_type": "markdown",
   "metadata": {},
   "source": [
    "A tarifa paga do conjunto de dados não deixa claro sobre o que foi pago: passagem? taxa de embarque? serviços extras?\n",
    "Vamos levar em conta que "
   ]
  },
  {
   "cell_type": "markdown",
   "metadata": {},
   "source": [
    "Outro ponto importante é que cada ponto de embarque\n"
   ]
  },
  {
   "cell_type": "markdown",
   "metadata": {},
   "source": [
    "Por meio da distribuição dos valores das passagens, podemos observar a concentração dos valores pagos com relação aos sobreviventes e vítimas."
   ]
  },
  {
   "cell_type": "code",
   "execution_count": 9,
   "metadata": {},
   "outputs": [
    {
     "data": {
      "image/png": "[encoded data removed]",
      "text/plain": [
       "<matplotlib.figure.Figure at 0x1a19ae5128>"
      ]
     },
     "metadata": {
      "needs_background": "light"
     },
     "output_type": "display_data"
    }
   ],
   "source": [
    "figure, ax = plt.subplots(1,2, sharex='col', sharey='row', figsize=(20,7))\n",
    "# ----------------------------------------------------------------------------------------------------\n",
    "fare_survivors = pf.plot_distribution_with_means(survivors['fare'], color=st.color_survivors,\\\n",
    "                                                 title='Survivors fare distributions', ax=ax[0])\n",
    "\n",
    "fare_victims = pf.plot_distribution_with_means(victims['fare'], color=st.color_victims,\\\n",
    "                                               title='Victims fare distributions', ax=ax[1])\n",
    "# ----------------------------------------------------------------------------------------------------\n",
    "figure.show()"
   ]
  },
  {
   "cell_type": "markdown",
   "metadata": {},
   "source": [
    "Comparando concentração de valores pagos podemos observar que a maior parte das vítimas foram aqueles com"
   ]
  },
  {
   "cell_type": "markdown",
   "metadata": {},
   "source": [
    "Dado que isso aquilo aquilo outro"
   ]
  },
  {
   "cell_type": "code",
   "execution_count": null,
   "metadata": {},
   "outputs": [],
   "source": [
    "embarkation_cities.query('embarkation_city == \"Cherbourg\" and ticket_class == \"first\"')['fare'].mode()"
   ]
  },
  {
   "cell_type": "code",
   "execution_count": null,
   "metadata": {},
   "outputs": [],
   "source": [
    "# Data\n",
    "r = [0,1,2,3,4]\n",
    "raw_data = {'greenBars': [20, 1.5, 7, 10, 5], 'orangeBars': [5, 15, 5, 10, 15],'blueBars': [2, 15, 18, 5, 10]}\n",
    "df = pd.DataFrame(raw_data)\n",
    " \n",
    "# From raw value to percentage\n",
    "totals = [i+j+k for i,j,k in zip(df['greenBars'], df['orangeBars'], df['blueBars'])]\n",
    "greenBars = [i / j * 100 for i,j in zip(df['greenBars'], totals)]\n",
    "orangeBars = [i / j * 100 for i,j in zip(df['orangeBars'], totals)]\n",
    "blueBars = [i / j * 100 for i,j in zip(df['blueBars'], totals)]\n",
    " \n",
    "# plot\n",
    "barWidth = 0.85\n",
    "names = ('A','B','C','D','E')\n",
    "# Create green Bars\n",
    "plt.bar(r, greenBars, color='#b5ffb9', edgecolor='white', width=barWidth)\n",
    "# Create orange Bars\n",
    "plt.bar(r, orangeBars, bottom=greenBars, color='#f9bc86', edgecolor='white', width=barWidth)\n",
    "# Create blue Bars\n",
    "plt.bar(r, blueBars, bottom=[i+j for i,j in zip(greenBars, orangeBars)], color='#a3acff', edgecolor='white', width=barWidth)\n",
    " \n",
    "# Custom x axis\n",
    "plt.xticks(r, names)\n",
    "plt.xlabel(\"group\")\n",
    " \n",
    "# Show graphic\n",
    "plt.show()\n"
   ]
  },
  {
   "cell_type": "code",
   "execution_count": null,
   "metadata": {},
   "outputs": [],
   "source": []
  },
  {
   "cell_type": "code",
   "execution_count": 11,
   "metadata": {},
   "outputs": [
    {
     "data": {
      "text/html": [
       "<div>\n",
       "<style scoped>\n",
       "    .dataframe tbody tr th:only-of-type {\n",
       "        vertical-align: middle;\n",
       "    }\n",
       "\n",
       "    .dataframe tbody tr th {\n",
       "        vertical-align: top;\n",
       "    }\n",
       "\n",
       "    .dataframe thead th {\n",
       "        text-align: right;\n",
       "    }\n",
       "</style>\n",
       "<table border=\"1\" class=\"dataframe\">\n",
       "  <thead>\n",
       "    <tr style=\"text-align: right;\">\n",
       "      <th>ticket_class</th>\n",
       "      <th>first</th>\n",
       "      <th>second</th>\n",
       "      <th>third</th>\n",
       "      <th>All</th>\n",
       "    </tr>\n",
       "    <tr>\n",
       "      <th>embarkation_city</th>\n",
       "      <th></th>\n",
       "      <th></th>\n",
       "      <th></th>\n",
       "      <th></th>\n",
       "    </tr>\n",
       "  </thead>\n",
       "  <tbody>\n",
       "    <tr>\n",
       "      <th>Cherbourg</th>\n",
       "      <td>8901.0750</td>\n",
       "      <td>431.0917</td>\n",
       "      <td>740.1295</td>\n",
       "      <td>10072.2962</td>\n",
       "    </tr>\n",
       "    <tr>\n",
       "      <th>Queestown</th>\n",
       "      <td>180.0000</td>\n",
       "      <td>37.0500</td>\n",
       "      <td>805.2043</td>\n",
       "      <td>1022.2543</td>\n",
       "    </tr>\n",
       "    <tr>\n",
       "      <th>Southampton</th>\n",
       "      <td>8936.3375</td>\n",
       "      <td>3333.7000</td>\n",
       "      <td>5169.3613</td>\n",
       "      <td>17439.3988</td>\n",
       "    </tr>\n",
       "    <tr>\n",
       "      <th>All</th>\n",
       "      <td>18017.4125</td>\n",
       "      <td>3801.8417</td>\n",
       "      <td>6714.6951</td>\n",
       "      <td>28533.9493</td>\n",
       "    </tr>\n",
       "  </tbody>\n",
       "</table>\n",
       "</div>"
      ],
      "text/plain": [
       "ticket_class           first     second      third         All\n",
       "embarkation_city                                              \n",
       "Cherbourg          8901.0750   431.0917   740.1295  10072.2962\n",
       "Queestown           180.0000    37.0500   805.2043   1022.2543\n",
       "Southampton        8936.3375  3333.7000  5169.3613  17439.3988\n",
       "All               18017.4125  3801.8417  6714.6951  28533.9493"
      ]
     },
     "execution_count": 11,
     "metadata": {},
     "output_type": "execute_result"
    }
   ],
   "source": [
    "pd.crosstab(index=embarkation_cities['embarkation_city'], columns=embarkation_cities['ticket_class'],\\\n",
    "            values=embarkation_cities['fare'], aggfunc='sum', margins=True, )"
   ]
  },
  {
   "cell_type": "code",
   "execution_count": null,
   "metadata": {},
   "outputs": [],
   "source": [
    "pd.crosstab(index=embarkation_cities['embarkation_city'], columns=embarkation_cities['ticket_class'],\\\n",
    "            values=embarkation_cities['fare'], aggfunc='sum', normalize='all', margins=True)"
   ]
  },
  {
   "cell_type": "code",
   "execution_count": null,
   "metadata": {},
   "outputs": [],
   "source": [
    "pd.crosstab(embarkation_cities['embarkation_city'], embarkation_cities['ticket_class'],\\\n",
    "            values=embarkation_cities['fare'], aggfunc='sum') "
   ]
  },
  {
   "cell_type": "markdown",
   "metadata": {},
   "source": [
    "### É possível confirmar a crença de que mulheres e crianças são prioridade no salvamento dentre as pessoas passageiras?"
   ]
  },
  {
   "cell_type": "code",
   "execution_count": null,
   "metadata": {},
   "outputs": [],
   "source": [
    "sns.FacetGrid(adults, col='survived', hue='gender',\\\n",
    "              palette=st.palette_gender, height=3, aspect=2).map(sns.distplot, 'age', kde=False)\n",
    "sns.FacetGrid(adults, col='survived', hue='maturity',\\\n",
    "              palette=st.palette_maturity, height=3, aspect=2).map(sns.distplot, 'age', kde=False)\n",
    "# sns.catplot(x='survived', hue='maturity', data=data_titanic, kind='bar')"
   ]
  },
  {
   "cell_type": "code",
   "execution_count": null,
   "metadata": {},
   "outputs": [],
   "source": [
    "pd.crosstab(index=data_titanic['gender'], columns=data_titanic['maturity'], margins=True, normalize='all')"
   ]
  },
  {
   "cell_type": "markdown",
   "metadata": {},
   "source": [
    "### É possível afirmar que houve uma grande diferença dentre sobreviventes considerando seu local de embarque?"
   ]
  },
  {
   "cell_type": "code",
   "execution_count": null,
   "metadata": {},
   "outputs": [],
   "source": [
    "pd.crosstab(data_titanic.query('embarkation_city != \"not_provided\"')['embarkation_city'], data_titanic['survived'], margins=True, normalize='index')"
   ]
  },
  {
   "cell_type": "code",
   "execution_count": null,
   "metadata": {},
   "outputs": [],
   "source": [
    "# pf.set_plot_by(1,1, figsize=(20,2))\n",
    "figure, ax = plt.subplots(1,2, sharex='col', sharey='row', figsize=(15,2.5))\n",
    "\n",
    "ps_yes = pd.crosstab(data_titanic.query('embarkation_city != \"not_provided\"')['embarkation_city'],\\\n",
    "                 data_titanic.query('survived == \"yes\"')['survived'], normalize='all')\n",
    "sns.heatmap(ps_yes, annot=True, fmt='#%', cmap=sns.light_palette(st.color_survivors), ax=ax[0], vmin=0, vmax=1)\n",
    "\n",
    "ps_no = pd.crosstab(data_titanic.query('embarkation_city != \"not_provided\"')['embarkation_city'],\\\n",
    "                 data_titanic.query('survived == \"no\"')['survived'], normalize='all')\n",
    "sns.heatmap(ps_no, annot=True, fmt='#%', cmap=sns.light_palette(st.color_victims), ax=ax[1], vmin=0, vmax=1)\n",
    "\n",
    "figure.show()"
   ]
  },
  {
   "cell_type": "markdown",
   "metadata": {},
   "source": [
    ">age >fare\n",
    ">media considerando cada local de embarque tem valor diferente"
   ]
  },
  {
   "cell_type": "markdown",
   "metadata": {},
   "source": [
    "### Pessoas que viajaram sozinhas tiveram mais chances de sobreviver?"
   ]
  },
  {
   "cell_type": "code",
   "execution_count": null,
   "metadata": {},
   "outputs": [],
   "source": [
    "companion_plot = sns.catplot(y='survived', hue='companion', kind='count', data=data_titanic, order=['yes','no'],\\\n",
    "                             palette=st.palette_companion, height=2, aspect=6)"
   ]
  },
  {
   "cell_type": "code",
   "execution_count": null,
   "metadata": {
    "scrolled": true
   },
   "outputs": [],
   "source": [
    "sns.heatmap(companion_x_destiny, annot=True, fmt='#%', cmap='BuPu')"
   ]
  },
  {
   "cell_type": "code",
   "execution_count": null,
   "metadata": {},
   "outputs": [],
   "source": []
  },
  {
   "cell_type": "markdown",
   "metadata": {},
   "source": [
    "# Considerações"
   ]
  },
  {
   "cell_type": "markdown",
   "metadata": {},
   "source": [
    "Embora focada em passageiros\n"
   ]
  },
  {
   "cell_type": "markdown",
   "metadata": {},
   "source": [
    "**Critérios**:\n",
    "- \"Faça testes e sugira perguntas que promovam olhar para relacionamentos entre múltiplas variáveis\"\n",
    "- \"Você deve analisar pelo menos uma variável dependente e três variáveis ​​independentes em sua investigação\"\n",
    "- \"Uma definição de qual pergunta você fez\"\n",
    "- \"Uma nota especificando qual foi o conjunto de dados usado\"\n",
    "- \"Uma descrição do que você fez para investigar a pergunta\"\n",
    "Um PDF ou HTML contendo sua análise. Este arquivo deve conter:\n",
    "\n",
    "\n",
    "Descrição de qualquer limpeza de dados feita  \n",
    "Um resumo das estatísticas e gráficos comunicando seu resultado final  \n",
    "O código usado para criar suas análises. Se você usou um notebook iPython, pode enviar seu .ipynb. Caso não o tenha feito, encaminhe os arquivos .py.\n",
    "\n"
   ]
  },
  {
   "cell_type": "markdown",
   "metadata": {},
   "source": [
    "Para obter maior compreensão dos dados, segue uma descrição... ?? "
   ]
  },
  {
   "cell_type": "markdown",
   "metadata": {},
   "source": [
    "### Referências"
   ]
  },
  {
   "cell_type": "markdown",
   "metadata": {},
   "source": [
    "##### Fonte\n",
    "- [Kaggle - Titanic](https://www.kaggle.com/c/titanic/data)\n",
    "\n",
    "##### Conteúdos sobre Titanic:\n",
    "- [Em naufrágios, crianças e mulheres têm mesmo prioridade?](https://super.abril.com.br/mundo-estranho/em-naufragios-criancas-e-mulheres-tem-mesmo-prioridade/)\n",
    "- [Em naufrágios e outros desastres, mulheres e crianças só conseguem sair por último](http://revistagalileu.globo.com/Revista/Common/0,,EMI302308-17770,00-EM+NAUFRAGIOS+E+OUTROS+DESASTRES+MULHERES+E+CRIANCAS+SO+CONSEGUEM+SAIR+POR+.html)\n",
    "- [Nerdologia - Titanic](https://www.youtube.com/watch?v=GlEV_2qbvx8)\n",
    "\n",
    "\n",
    "##### Análises de dados\n",
    "- [Lautert, Larissa. Análise exploratória da fila - hacking-health-sc-2017](https://github.com/llautert/hacking-health-sc-2017/blob/master/An%C3%A1lise%20explorat%C3%B3ria%20da%20fila.ipynb)\n",
    "- [Reis, Filipe - T2 - Análise Exploratória de Dados - Filipe Reis - RA091202](https://github.com/fireis/ia369w_exp_data_ana/blob/master/T2%20-%20Saude%20-%20Filipe%20Reis%20-%20RA091202.ipynb)\n",
    "- [Siqueira, Fernando - Análise de notas de alunos](https://github.com/fernandolkf/dotdigitalgroup/blob/master/dotdigitalgroup.ipynb)\n",
    "\n",
    "\n",
    "##### Técnicos\n",
    "- [Handling missing data](https://www.oreilly.com/learning/handling-missing-data)\n",
    "- [Mean Median Mode lines showing only in last graph in seaborn](https://stackoverflow.com/questions/51417483/mean-median-mode-lines-showing-only-in-last-graph-in-seaborn/51417635)\n",
    "\n",
    "- [A collection of various notebook extensions for Jupyter](https://github.com/ipython-contrib/jupyter_contrib_nbextensions)\n",
    "- [Python for Data Science and Machine Learning Bootcamp](https://www.udemy.com/python-for-data-science-and-machine-learning-bootcamp)\n",
    "- [Percent stacked barplot](https://python-graph-gallery.com/13-percent-stacked-barplot/)\n",
    "- [5 reasons you should use a violin graph](https://medium.com/@bioturing/5-reasons-you-should-use-a-violin-graph-31a9cdf2d0c6)\n",
    "\n",
    "#### Complementares\n",
    "- [The convention on the Rights of the child](https://www.unicef.org/crc/files/Guiding_Principles.pdf)"
   ]
  }
 ],
 "metadata": {
  "kernelspec": {
   "display_name": "Python 3",
   "language": "python",
   "name": "python3"
  },
  "language_info": {
   "codemirror_mode": {
    "name": "ipython",
    "version": 3
   },
   "file_extension": ".py",
   "mimetype": "text/x-python",
   "name": "python",
   "nbconvert_exporter": "python",
   "pygments_lexer": "ipython3",
   "version": "3.6.6"
  }
 },
 "nbformat": 4,
 "nbformat_minor": 2
}
