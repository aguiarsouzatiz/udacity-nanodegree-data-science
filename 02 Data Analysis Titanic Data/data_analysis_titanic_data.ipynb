{
 "cells": [
  {
   "cell_type": "markdown",
   "metadata": {
    "slideshow": {
     "slide_type": "slide"
    }
   },
   "source": [
    "\n",
    "\n",
    "\n",
    "# Análise exploratória de dados do Titanic"
   ]
  },
  {
   "cell_type": "markdown",
   "metadata": {},
   "source": [
    "### Resumo\n",
    "---\n",
    " \n",
    " [Introdução](#Introdução)\n",
    "\n",
    " [Conjunto de dados](#Conjunto-de-dados)\n",
    " \n",
    " [Ferramentas](#Ferramentas)\n",
    "\n",
    " [Questões-chave](#Questões-chave)\n",
    "\n",
    " Considerações\n",
    "\n",
    " Divulgação\n",
    "\n",
    " [Referências](#Referências)"
   ]
  },
  {
   "cell_type": "markdown",
   "metadata": {},
   "source": [
    " ### Introdução\n",
    " ..."
   ]
  },
  {
   "cell_type": "markdown",
   "metadata": {},
   "source": [
    "### Ferramentas\n",
    "\n",
    "Para análise foi utilizada a linguagem Python e suas bibliotecas: **pandas** para estrutura e manipulação de dados; **numpy** para operação com matrizes e vertores; **matplotlib** e **seaborn** para visualização de dados; **funções personalizadas** para manipulação dos dados; **formatação de tabela** personalizada para aprimorar a exibição dos dados."
   ]
  },
  {
   "cell_type": "code",
   "execution_count": 4,
   "metadata": {},
   "outputs": [],
   "source": [
    "# bibliotecas usadas para análise\n",
    "import pandas as pd\n",
    "import numpy as np\n",
    "import matplotlib.pyplot as plt\n",
    "import seaborn as sns\n",
    "% matplotlib inline\n",
    "\n",
    "# bibliotecas usadas para análise\n",
    "from data.data_modules import data_manipulation_functions as dm\n",
    "from data.data_modules import data_table_format as tab"
   ]
  },
  {
   "cell_type": "markdown",
   "metadata": {},
   "source": [
    "### Conjunto de dados\n",
    "\n",
    "#### Fonte\n",
    "A análise utilizou como material os dados fornecidos pela Udacity a partir do Kaggle e representa 891 das 2.224 pessoas que estavam a bordo do Titanic.  \n",
    "Link para a fonte dos dados https://www.kaggle.com/c/titanic/data\n",
    "\n",
    "#### Preparação dos dados\n",
    "Para deixar os dados mais legíveis e consistentes de modo a preservar a informação, os dados passaram por um processo de limpeza. Durante a execução algumas colunas foram avaliadas com relação à qualidade e pertinência de serem utilizadas na análise. Assim, dentre as 12 colunas foram delimitadas as seguintes 10 colunas:\n",
    "> **survived** (informa se sobreviveu), **ticket_class** (classe), **name** (nome), **gender** (sexo), **age** (idade), **siblings_or_spouses** (quantidade de irmãs(ãos) ou  cônjuges), **parents_or_children** (quantidade de pais ou filhas(os)), **ticket_number** (número do bilhete), **fare** (custo) e **embarkation_city** (cidade de embarque)\n",
    "\n",
    "Dentre as colunas, a que contém os dados referentes a idade possuia cerca de 80% dos dados completos. Para permitir cruzamentos entre outras variáveis, os cerca de 20% de dados foram preenchidos de modo randômico de modo a preservar a proporção de diferençãs de idade dos dados completos.\n",
    "\n",
    "O passo a passo realizado pode ser verificado em [/data/data_wrangling.ipynb](./data/data_wrangling.ipynb)"
   ]
  },
  {
   "cell_type": "code",
   "execution_count": 12,
   "metadata": {},
   "outputs": [
    {
     "data": {
      "text/html": [
       "<style  type=\"text/css\" >\n",
       "    #T_040972ee_bf47_11e8_b5dd_985aebcf2443 th:nth-child(2) {\n",
       "          text-align: left;\n",
       "    }    #T_040972ee_bf47_11e8_b5dd_985aebcf2443 td:nth-child(2) {\n",
       "          text-align: left;\n",
       "    }    #T_040972ee_bf47_11e8_b5dd_985aebcf2443 th:nth-child(4) {\n",
       "          text-align: left;\n",
       "    }    #T_040972ee_bf47_11e8_b5dd_985aebcf2443 td:nth-child(4) {\n",
       "          text-align: left;\n",
       "    }    #T_040972ee_bf47_11e8_b5dd_985aebcf2443 th:nth-child(5) {\n",
       "          text-align: left;\n",
       "    }    #T_040972ee_bf47_11e8_b5dd_985aebcf2443 td:nth-child(5) {\n",
       "          text-align: left;\n",
       "    }    #T_040972ee_bf47_11e8_b5dd_985aebcf2443 th:nth-child(7) {\n",
       "          text-align: left;\n",
       "    }    #T_040972ee_bf47_11e8_b5dd_985aebcf2443 td:nth-child(7) {\n",
       "          text-align: left;\n",
       "    }    #T_040972ee_bf47_11e8_b5dd_985aebcf2443 th:nth-child(8) {\n",
       "          text-align: left;\n",
       "    }    #T_040972ee_bf47_11e8_b5dd_985aebcf2443 td:nth-child(8) {\n",
       "          text-align: left;\n",
       "    }    #T_040972ee_bf47_11e8_b5dd_985aebcf2443 th:nth-child(11) {\n",
       "          text-align: left;\n",
       "    }    #T_040972ee_bf47_11e8_b5dd_985aebcf2443 td:nth-child(11) {\n",
       "          text-align: left;\n",
       "    }</style>  \n",
       "<table id=\"T_040972ee_bf47_11e8_b5dd_985aebcf2443\" > \n",
       "<thead>    <tr> \n",
       "        <th class=\"blank level0\" ></th> \n",
       "        <th class=\"col_heading level0 col0\" >name</th> \n",
       "        <th class=\"col_heading level0 col1\" >age</th> \n",
       "        <th class=\"col_heading level0 col2\" >gender</th> \n",
       "        <th class=\"col_heading level0 col3\" >ticket_class</th> \n",
       "        <th class=\"col_heading level0 col4\" >fare</th> \n",
       "        <th class=\"col_heading level0 col5\" >ticket_number</th> \n",
       "        <th class=\"col_heading level0 col6\" >embarkation_city</th> \n",
       "        <th class=\"col_heading level0 col7\" >siblings_or_spouses</th> \n",
       "        <th class=\"col_heading level0 col8\" >parents_or_children</th> \n",
       "        <th class=\"col_heading level0 col9\" >survived</th> \n",
       "    </tr></thead> \n",
       "<tbody>    <tr> \n",
       "        <th id=\"T_040972ee_bf47_11e8_b5dd_985aebcf2443level0_row0\" class=\"row_heading level0 row0\" >0</th> \n",
       "        <td id=\"T_040972ee_bf47_11e8_b5dd_985aebcf2443row0_col0\" class=\"data row0 col0\" >Braund, Mr. Owen Harris</td> \n",
       "        <td id=\"T_040972ee_bf47_11e8_b5dd_985aebcf2443row0_col1\" class=\"data row0 col1\" >22</td> \n",
       "        <td id=\"T_040972ee_bf47_11e8_b5dd_985aebcf2443row0_col2\" class=\"data row0 col2\" >male</td> \n",
       "        <td id=\"T_040972ee_bf47_11e8_b5dd_985aebcf2443row0_col3\" class=\"data row0 col3\" >third</td> \n",
       "        <td id=\"T_040972ee_bf47_11e8_b5dd_985aebcf2443row0_col4\" class=\"data row0 col4\" >7.25</td> \n",
       "        <td id=\"T_040972ee_bf47_11e8_b5dd_985aebcf2443row0_col5\" class=\"data row0 col5\" >A/5 21171</td> \n",
       "        <td id=\"T_040972ee_bf47_11e8_b5dd_985aebcf2443row0_col6\" class=\"data row0 col6\" >Southampton</td> \n",
       "        <td id=\"T_040972ee_bf47_11e8_b5dd_985aebcf2443row0_col7\" class=\"data row0 col7\" >1</td> \n",
       "        <td id=\"T_040972ee_bf47_11e8_b5dd_985aebcf2443row0_col8\" class=\"data row0 col8\" >0</td> \n",
       "        <td id=\"T_040972ee_bf47_11e8_b5dd_985aebcf2443row0_col9\" class=\"data row0 col9\" >no</td> \n",
       "    </tr>    <tr> \n",
       "        <th id=\"T_040972ee_bf47_11e8_b5dd_985aebcf2443level0_row1\" class=\"row_heading level0 row1\" >1</th> \n",
       "        <td id=\"T_040972ee_bf47_11e8_b5dd_985aebcf2443row1_col0\" class=\"data row1 col0\" >Cumings, Mrs. John Bradley (Florence Briggs Thayer)</td> \n",
       "        <td id=\"T_040972ee_bf47_11e8_b5dd_985aebcf2443row1_col1\" class=\"data row1 col1\" >38</td> \n",
       "        <td id=\"T_040972ee_bf47_11e8_b5dd_985aebcf2443row1_col2\" class=\"data row1 col2\" >female</td> \n",
       "        <td id=\"T_040972ee_bf47_11e8_b5dd_985aebcf2443row1_col3\" class=\"data row1 col3\" >first</td> \n",
       "        <td id=\"T_040972ee_bf47_11e8_b5dd_985aebcf2443row1_col4\" class=\"data row1 col4\" >71.2833</td> \n",
       "        <td id=\"T_040972ee_bf47_11e8_b5dd_985aebcf2443row1_col5\" class=\"data row1 col5\" >PC 17599</td> \n",
       "        <td id=\"T_040972ee_bf47_11e8_b5dd_985aebcf2443row1_col6\" class=\"data row1 col6\" >Cherbourg</td> \n",
       "        <td id=\"T_040972ee_bf47_11e8_b5dd_985aebcf2443row1_col7\" class=\"data row1 col7\" >1</td> \n",
       "        <td id=\"T_040972ee_bf47_11e8_b5dd_985aebcf2443row1_col8\" class=\"data row1 col8\" >0</td> \n",
       "        <td id=\"T_040972ee_bf47_11e8_b5dd_985aebcf2443row1_col9\" class=\"data row1 col9\" >yes</td> \n",
       "    </tr>    <tr> \n",
       "        <th id=\"T_040972ee_bf47_11e8_b5dd_985aebcf2443level0_row2\" class=\"row_heading level0 row2\" >2</th> \n",
       "        <td id=\"T_040972ee_bf47_11e8_b5dd_985aebcf2443row2_col0\" class=\"data row2 col0\" >Heikkinen, Miss. Laina</td> \n",
       "        <td id=\"T_040972ee_bf47_11e8_b5dd_985aebcf2443row2_col1\" class=\"data row2 col1\" >26</td> \n",
       "        <td id=\"T_040972ee_bf47_11e8_b5dd_985aebcf2443row2_col2\" class=\"data row2 col2\" >female</td> \n",
       "        <td id=\"T_040972ee_bf47_11e8_b5dd_985aebcf2443row2_col3\" class=\"data row2 col3\" >third</td> \n",
       "        <td id=\"T_040972ee_bf47_11e8_b5dd_985aebcf2443row2_col4\" class=\"data row2 col4\" >7.925</td> \n",
       "        <td id=\"T_040972ee_bf47_11e8_b5dd_985aebcf2443row2_col5\" class=\"data row2 col5\" >STON/O2. 3101282</td> \n",
       "        <td id=\"T_040972ee_bf47_11e8_b5dd_985aebcf2443row2_col6\" class=\"data row2 col6\" >Southampton</td> \n",
       "        <td id=\"T_040972ee_bf47_11e8_b5dd_985aebcf2443row2_col7\" class=\"data row2 col7\" >0</td> \n",
       "        <td id=\"T_040972ee_bf47_11e8_b5dd_985aebcf2443row2_col8\" class=\"data row2 col8\" >0</td> \n",
       "        <td id=\"T_040972ee_bf47_11e8_b5dd_985aebcf2443row2_col9\" class=\"data row2 col9\" >yes</td> \n",
       "    </tr>    <tr> \n",
       "        <th id=\"T_040972ee_bf47_11e8_b5dd_985aebcf2443level0_row3\" class=\"row_heading level0 row3\" >3</th> \n",
       "        <td id=\"T_040972ee_bf47_11e8_b5dd_985aebcf2443row3_col0\" class=\"data row3 col0\" >Futrelle, Mrs. Jacques Heath (Lily May Peel)</td> \n",
       "        <td id=\"T_040972ee_bf47_11e8_b5dd_985aebcf2443row3_col1\" class=\"data row3 col1\" >35</td> \n",
       "        <td id=\"T_040972ee_bf47_11e8_b5dd_985aebcf2443row3_col2\" class=\"data row3 col2\" >female</td> \n",
       "        <td id=\"T_040972ee_bf47_11e8_b5dd_985aebcf2443row3_col3\" class=\"data row3 col3\" >first</td> \n",
       "        <td id=\"T_040972ee_bf47_11e8_b5dd_985aebcf2443row3_col4\" class=\"data row3 col4\" >53.1</td> \n",
       "        <td id=\"T_040972ee_bf47_11e8_b5dd_985aebcf2443row3_col5\" class=\"data row3 col5\" >113803</td> \n",
       "        <td id=\"T_040972ee_bf47_11e8_b5dd_985aebcf2443row3_col6\" class=\"data row3 col6\" >Southampton</td> \n",
       "        <td id=\"T_040972ee_bf47_11e8_b5dd_985aebcf2443row3_col7\" class=\"data row3 col7\" >1</td> \n",
       "        <td id=\"T_040972ee_bf47_11e8_b5dd_985aebcf2443row3_col8\" class=\"data row3 col8\" >0</td> \n",
       "        <td id=\"T_040972ee_bf47_11e8_b5dd_985aebcf2443row3_col9\" class=\"data row3 col9\" >yes</td> \n",
       "    </tr>    <tr> \n",
       "        <th id=\"T_040972ee_bf47_11e8_b5dd_985aebcf2443level0_row4\" class=\"row_heading level0 row4\" >4</th> \n",
       "        <td id=\"T_040972ee_bf47_11e8_b5dd_985aebcf2443row4_col0\" class=\"data row4 col0\" >Allen, Mr. William Henry</td> \n",
       "        <td id=\"T_040972ee_bf47_11e8_b5dd_985aebcf2443row4_col1\" class=\"data row4 col1\" >35</td> \n",
       "        <td id=\"T_040972ee_bf47_11e8_b5dd_985aebcf2443row4_col2\" class=\"data row4 col2\" >male</td> \n",
       "        <td id=\"T_040972ee_bf47_11e8_b5dd_985aebcf2443row4_col3\" class=\"data row4 col3\" >third</td> \n",
       "        <td id=\"T_040972ee_bf47_11e8_b5dd_985aebcf2443row4_col4\" class=\"data row4 col4\" >8.05</td> \n",
       "        <td id=\"T_040972ee_bf47_11e8_b5dd_985aebcf2443row4_col5\" class=\"data row4 col5\" >373450</td> \n",
       "        <td id=\"T_040972ee_bf47_11e8_b5dd_985aebcf2443row4_col6\" class=\"data row4 col6\" >Southampton</td> \n",
       "        <td id=\"T_040972ee_bf47_11e8_b5dd_985aebcf2443row4_col7\" class=\"data row4 col7\" >0</td> \n",
       "        <td id=\"T_040972ee_bf47_11e8_b5dd_985aebcf2443row4_col8\" class=\"data row4 col8\" >0</td> \n",
       "        <td id=\"T_040972ee_bf47_11e8_b5dd_985aebcf2443row4_col9\" class=\"data row4 col9\" >no</td> \n",
       "    </tr>    <tr> \n",
       "        <th id=\"T_040972ee_bf47_11e8_b5dd_985aebcf2443level0_row5\" class=\"row_heading level0 row5\" >5</th> \n",
       "        <td id=\"T_040972ee_bf47_11e8_b5dd_985aebcf2443row5_col0\" class=\"data row5 col0\" >Moran, Mr. James</td> \n",
       "        <td id=\"T_040972ee_bf47_11e8_b5dd_985aebcf2443row5_col1\" class=\"data row5 col1\" >20.9093</td> \n",
       "        <td id=\"T_040972ee_bf47_11e8_b5dd_985aebcf2443row5_col2\" class=\"data row5 col2\" >male</td> \n",
       "        <td id=\"T_040972ee_bf47_11e8_b5dd_985aebcf2443row5_col3\" class=\"data row5 col3\" >third</td> \n",
       "        <td id=\"T_040972ee_bf47_11e8_b5dd_985aebcf2443row5_col4\" class=\"data row5 col4\" >8.4583</td> \n",
       "        <td id=\"T_040972ee_bf47_11e8_b5dd_985aebcf2443row5_col5\" class=\"data row5 col5\" >330877</td> \n",
       "        <td id=\"T_040972ee_bf47_11e8_b5dd_985aebcf2443row5_col6\" class=\"data row5 col6\" >Queestown</td> \n",
       "        <td id=\"T_040972ee_bf47_11e8_b5dd_985aebcf2443row5_col7\" class=\"data row5 col7\" >0</td> \n",
       "        <td id=\"T_040972ee_bf47_11e8_b5dd_985aebcf2443row5_col8\" class=\"data row5 col8\" >0</td> \n",
       "        <td id=\"T_040972ee_bf47_11e8_b5dd_985aebcf2443row5_col9\" class=\"data row5 col9\" >no</td> \n",
       "    </tr>    <tr> \n",
       "        <th id=\"T_040972ee_bf47_11e8_b5dd_985aebcf2443level0_row6\" class=\"row_heading level0 row6\" >6</th> \n",
       "        <td id=\"T_040972ee_bf47_11e8_b5dd_985aebcf2443row6_col0\" class=\"data row6 col0\" >McCarthy, Mr. Timothy J</td> \n",
       "        <td id=\"T_040972ee_bf47_11e8_b5dd_985aebcf2443row6_col1\" class=\"data row6 col1\" >54</td> \n",
       "        <td id=\"T_040972ee_bf47_11e8_b5dd_985aebcf2443row6_col2\" class=\"data row6 col2\" >male</td> \n",
       "        <td id=\"T_040972ee_bf47_11e8_b5dd_985aebcf2443row6_col3\" class=\"data row6 col3\" >first</td> \n",
       "        <td id=\"T_040972ee_bf47_11e8_b5dd_985aebcf2443row6_col4\" class=\"data row6 col4\" >51.8625</td> \n",
       "        <td id=\"T_040972ee_bf47_11e8_b5dd_985aebcf2443row6_col5\" class=\"data row6 col5\" >17463</td> \n",
       "        <td id=\"T_040972ee_bf47_11e8_b5dd_985aebcf2443row6_col6\" class=\"data row6 col6\" >Southampton</td> \n",
       "        <td id=\"T_040972ee_bf47_11e8_b5dd_985aebcf2443row6_col7\" class=\"data row6 col7\" >0</td> \n",
       "        <td id=\"T_040972ee_bf47_11e8_b5dd_985aebcf2443row6_col8\" class=\"data row6 col8\" >0</td> \n",
       "        <td id=\"T_040972ee_bf47_11e8_b5dd_985aebcf2443row6_col9\" class=\"data row6 col9\" >no</td> \n",
       "    </tr>    <tr> \n",
       "        <th id=\"T_040972ee_bf47_11e8_b5dd_985aebcf2443level0_row7\" class=\"row_heading level0 row7\" >7</th> \n",
       "        <td id=\"T_040972ee_bf47_11e8_b5dd_985aebcf2443row7_col0\" class=\"data row7 col0\" >Palsson, Master. Gosta Leonard</td> \n",
       "        <td id=\"T_040972ee_bf47_11e8_b5dd_985aebcf2443row7_col1\" class=\"data row7 col1\" >2</td> \n",
       "        <td id=\"T_040972ee_bf47_11e8_b5dd_985aebcf2443row7_col2\" class=\"data row7 col2\" >male</td> \n",
       "        <td id=\"T_040972ee_bf47_11e8_b5dd_985aebcf2443row7_col3\" class=\"data row7 col3\" >third</td> \n",
       "        <td id=\"T_040972ee_bf47_11e8_b5dd_985aebcf2443row7_col4\" class=\"data row7 col4\" >21.075</td> \n",
       "        <td id=\"T_040972ee_bf47_11e8_b5dd_985aebcf2443row7_col5\" class=\"data row7 col5\" >349909</td> \n",
       "        <td id=\"T_040972ee_bf47_11e8_b5dd_985aebcf2443row7_col6\" class=\"data row7 col6\" >Southampton</td> \n",
       "        <td id=\"T_040972ee_bf47_11e8_b5dd_985aebcf2443row7_col7\" class=\"data row7 col7\" >3</td> \n",
       "        <td id=\"T_040972ee_bf47_11e8_b5dd_985aebcf2443row7_col8\" class=\"data row7 col8\" >1</td> \n",
       "        <td id=\"T_040972ee_bf47_11e8_b5dd_985aebcf2443row7_col9\" class=\"data row7 col9\" >no</td> \n",
       "    </tr>    <tr> \n",
       "        <th id=\"T_040972ee_bf47_11e8_b5dd_985aebcf2443level0_row8\" class=\"row_heading level0 row8\" >8</th> \n",
       "        <td id=\"T_040972ee_bf47_11e8_b5dd_985aebcf2443row8_col0\" class=\"data row8 col0\" >Johnson, Mrs. Oscar W (Elisabeth Vilhelmina Berg)</td> \n",
       "        <td id=\"T_040972ee_bf47_11e8_b5dd_985aebcf2443row8_col1\" class=\"data row8 col1\" >27</td> \n",
       "        <td id=\"T_040972ee_bf47_11e8_b5dd_985aebcf2443row8_col2\" class=\"data row8 col2\" >female</td> \n",
       "        <td id=\"T_040972ee_bf47_11e8_b5dd_985aebcf2443row8_col3\" class=\"data row8 col3\" >third</td> \n",
       "        <td id=\"T_040972ee_bf47_11e8_b5dd_985aebcf2443row8_col4\" class=\"data row8 col4\" >11.1333</td> \n",
       "        <td id=\"T_040972ee_bf47_11e8_b5dd_985aebcf2443row8_col5\" class=\"data row8 col5\" >347742</td> \n",
       "        <td id=\"T_040972ee_bf47_11e8_b5dd_985aebcf2443row8_col6\" class=\"data row8 col6\" >Southampton</td> \n",
       "        <td id=\"T_040972ee_bf47_11e8_b5dd_985aebcf2443row8_col7\" class=\"data row8 col7\" >0</td> \n",
       "        <td id=\"T_040972ee_bf47_11e8_b5dd_985aebcf2443row8_col8\" class=\"data row8 col8\" >2</td> \n",
       "        <td id=\"T_040972ee_bf47_11e8_b5dd_985aebcf2443row8_col9\" class=\"data row8 col9\" >yes</td> \n",
       "    </tr>    <tr> \n",
       "        <th id=\"T_040972ee_bf47_11e8_b5dd_985aebcf2443level0_row9\" class=\"row_heading level0 row9\" >9</th> \n",
       "        <td id=\"T_040972ee_bf47_11e8_b5dd_985aebcf2443row9_col0\" class=\"data row9 col0\" >Nasser, Mrs. Nicholas (Adele Achem)</td> \n",
       "        <td id=\"T_040972ee_bf47_11e8_b5dd_985aebcf2443row9_col1\" class=\"data row9 col1\" >14</td> \n",
       "        <td id=\"T_040972ee_bf47_11e8_b5dd_985aebcf2443row9_col2\" class=\"data row9 col2\" >female</td> \n",
       "        <td id=\"T_040972ee_bf47_11e8_b5dd_985aebcf2443row9_col3\" class=\"data row9 col3\" >second</td> \n",
       "        <td id=\"T_040972ee_bf47_11e8_b5dd_985aebcf2443row9_col4\" class=\"data row9 col4\" >30.0708</td> \n",
       "        <td id=\"T_040972ee_bf47_11e8_b5dd_985aebcf2443row9_col5\" class=\"data row9 col5\" >237736</td> \n",
       "        <td id=\"T_040972ee_bf47_11e8_b5dd_985aebcf2443row9_col6\" class=\"data row9 col6\" >Cherbourg</td> \n",
       "        <td id=\"T_040972ee_bf47_11e8_b5dd_985aebcf2443row9_col7\" class=\"data row9 col7\" >1</td> \n",
       "        <td id=\"T_040972ee_bf47_11e8_b5dd_985aebcf2443row9_col8\" class=\"data row9 col8\" >0</td> \n",
       "        <td id=\"T_040972ee_bf47_11e8_b5dd_985aebcf2443row9_col9\" class=\"data row9 col9\" >yes</td> \n",
       "    </tr></tbody> \n",
       "</table> "
      ],
      "text/plain": [
       "<pandas.io.formats.style.Styler at 0x1a169dcd30>"
      ]
     },
     "execution_count": 12,
     "metadata": {},
     "output_type": "execute_result"
    }
   ],
   "source": [
    "# carregamento dos dados\n",
    "data_titanic = pd.read_csv('./data/data_titanic_clean')\n",
    "\n",
    "# exibição das 3 primeiras linhas do conjunto de dados\n",
    "tab.format_table(data_titanic.head(10))"
   ]
  },
  {
   "cell_type": "markdown",
   "metadata": {},
   "source": [
    "#### Descrição da amostra\n",
    "A amostra contém 891 dados que representa cerca de 20% da quantidade total de 2224 referentes às pessoas presentes no navio. \n",
    "\n",
    "Por meio dela não é possível distinguir entre pessoas passageiras e tripulação. Por meio dos\n",
    "Possui diferença de gênero x x x, idade x x x mas não é possível confirmar se ela representa proporcionalmente a quantidade total.\n",
    "Além disso, considera-se que os dados se referem a pessoas passageiras e porque não há informações sobre pessoas da tripulação."
   ]
  },
  {
   "cell_type": "code",
   "execution_count": 6,
   "metadata": {},
   "outputs": [
    {
     "ename": "NameError",
     "evalue": "name 'data_titanic_raw' is not defined",
     "output_type": "error",
     "traceback": [
      "\u001b[0;31m---------------------------------------------------------------------------\u001b[0m",
      "\u001b[0;31mNameError\u001b[0m                                 Traceback (most recent call last)",
      "\u001b[0;32m<ipython-input-6-4f27e2451c43>\u001b[0m in \u001b[0;36m<module>\u001b[0;34m()\u001b[0m\n\u001b[0;32m----> 1\u001b[0;31m \u001b[0mdata_titanic_raw\u001b[0m\u001b[0;34m.\u001b[0m\u001b[0mhead\u001b[0m\u001b[0;34m(\u001b[0m\u001b[0;36m10\u001b[0m\u001b[0;34m)\u001b[0m\u001b[0;34m\u001b[0m\u001b[0m\n\u001b[0m",
      "\u001b[0;31mNameError\u001b[0m: name 'data_titanic_raw' is not defined"
     ]
    }
   ],
   "source": []
  },
  {
   "cell_type": "markdown",
   "metadata": {},
   "source": [
    "### Questões-chave\n",
    "A presente análise investiga temas relacionados a idade, genêro e econômico a partir da amostra de dados do Titanic. \n",
    "Para chegar às questões da análise, primeiramente foram elaboradas algumas antes da limpeza dos dados e outras depois.\n",
    "Assim, as seguintes questões-chave foram elencadas:\n",
    "\n",
    "#### Questões iniciais\n",
    "- Houve diferença representativa na proporção de pessoas sobreviventes de acordo com o preço pago na passagem?\n",
    "- É possível confirmar que a crença de que mulheres e crianças foram prioridade no salvamento?\n",
    "\n",
    "#### Questões a partir da limpeza dos dados\n",
    "- Houve diferenças relevantes na distribuição das classes por local de embarque?\n",
    "- Pessoas que viajaram sozinhas tiveram mais changes de sobreviver?"
   ]
  },
  {
   "cell_type": "markdown",
   "metadata": {},
   "source": [
    "**Critérios**:\n",
    "- \"Faça testes e sugira perguntas que promovam olhar para relacionamentos entre múltiplas variáveis\"\n",
    "- \"Você deve analisar pelo menos uma variável dependente e três variáveis ​​independentes em sua investigação\"\n",
    "- \"Uma definição de qual pergunta você fez\"\n",
    "- \"Uma nota especificando qual foi o conjunto de dados usado\"\n",
    "- \"Uma descrição do que você fez para investigar a pergunta\"\n",
    "Um PDF ou HTML contendo sua análise. Este arquivo deve conter:\n",
    "\n",
    "\n",
    "Descrição de qualquer limpeza de dados feita  \n",
    "Um resumo das estatísticas e gráficos comunicando seu resultado final  \n",
    "O código usado para criar suas análises. Se você usou um notebook iPython, pode enviar seu .ipynb. Caso não o tenha feito, encaminhe os arquivos .py.\n",
    "\n"
   ]
  },
  {
   "cell_type": "markdown",
   "metadata": {},
   "source": [
    "Para obter maior compreensão dos dados, segue uma descrição... ?? "
   ]
  },
  {
   "cell_type": "markdown",
   "metadata": {},
   "source": [
    "Cabeçalhos mais legíveis\n",
    "remoção da coluna a passengerId não agregava a análise\n",
    "ajustes nas colunas , , , para permitir verificar valores de modo mais claro\n",
    "É possível verificar o passo a passo aqui"
   ]
  },
  {
   "cell_type": "markdown",
   "metadata": {},
   "source": [
    "### Referências"
   ]
  },
  {
   "cell_type": "markdown",
   "metadata": {},
   "source": [
    "##### Fonte\n",
    "- [Kaggle - Titanic](https://www.kaggle.com/c/titanic/data)\n",
    "\n",
    "##### Conteúdos sobre Titanic:\n",
    "- [Em naufrágios, crianças e mulheres têm mesmo prioridade?](https://super.abril.com.br/mundo-estranho/em-naufragios-criancas-e-mulheres-tem-mesmo-prioridade/)\n",
    "- [Em naufrágios e outros desastres, mulheres e crianças só conseguem sair por último](http://revistagalileu.globo.com/Revista/Common/0,,EMI302308-17770,00-EM+NAUFRAGIOS+E+OUTROS+DESASTRES+MULHERES+E+CRIANCAS+SO+CONSEGUEM+SAIR+POR+.html)\n",
    "- [Nerdologia - Titanic](https://www.youtube.com/watch?v=GlEV_2qbvx8)\n",
    "\n",
    "\n",
    "##### Análises de dados\n",
    "- [Lautert, Larissa. Análise exploratória da fila - hacking-health-sc-2017](https://github.com/llautert/hacking-health-sc-2017/blob/master/An%C3%A1lise%20explorat%C3%B3ria%20da%20fila.ipynb)\n",
    "- [Reis, Filipe - T2 - Análise Exploratória de Dados - Filipe Reis - RA091202](https://github.com/fireis/ia369w_exp_data_ana/blob/master/T2%20-%20Saude%20-%20Filipe%20Reis%20-%20RA091202.ipynb)\n",
    "- [Siqueira, Fernando - Análise de notas de alunos](https://github.com/fernandolkf/dotdigitalgroup/blob/master/dotdigitalgroup.ipynb)\n",
    "\n",
    "\n",
    "##### Técnicos\n",
    "- [Handling missing data](https://www.oreilly.com/learning/handling-missing-data)\n",
    "- [Mean Median Mode lines showing only in last graph in seaborn](https://stackoverflow.com/questions/51417483/mean-median-mode-lines-showing-only-in-last-graph-in-seaborn/51417635)\n",
    "\n",
    "- [A collection of various notebook extensions for Jupyter](https://github.com/ipython-contrib/jupyter_contrib_nbextensions)\n",
    "- [Python for Data Science and Machine Learning Bootcamp](https://www.udemy.com/python-for-data-science-and-machine-learning-bootcamp)"
   ]
  },
  {
   "cell_type": "code",
   "execution_count": null,
   "metadata": {},
   "outputs": [],
   "source": []
  }
 ],
 "metadata": {
  "kernelspec": {
   "display_name": "Python 3",
   "language": "python",
   "name": "python3"
  },
  "language_info": {
   "codemirror_mode": {
    "name": "ipython",
    "version": 3
   },
   "file_extension": ".py",
   "mimetype": "text/x-python",
   "name": "python",
   "nbconvert_exporter": "python",
   "pygments_lexer": "ipython3",
   "version": "3.6.6"
  }
 },
 "nbformat": 4,
 "nbformat_minor": 2
}
