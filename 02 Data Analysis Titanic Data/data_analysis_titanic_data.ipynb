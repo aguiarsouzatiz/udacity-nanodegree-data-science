{
 "cells": [
  {
   "cell_type": "markdown",
   "metadata": {
    "slideshow": {
     "slide_type": "slide"
    }
   },
   "source": [
    "\n",
    "\n",
    "\n",
    "# Análise exploratória de dados do Titanic"
   ]
  },
  {
   "cell_type": "markdown",
   "metadata": {},
   "source": [
    "## Resumo\n",
    "---\n",
    " \n",
    " [Introdução](#Introdução)\n",
    "\n",
    " [Conjunto de dados](#Conjunto-de-dados)\n",
    " \n",
    " [Ferramentas](#Ferramentas)\n",
    "\n",
    " [Questões-chave](#Questões-chave)\n",
    "\n",
    " [Considerações finais](#Considerações-finais)\n",
    "\n",
    " [Referências](#Referências)"
   ]
  },
  {
   "cell_type": "markdown",
   "metadata": {},
   "source": [
    " # Introdução\n",
    "A tragégia no naufrágio do Navio Titanic muito retratado em ..."
   ]
  },
  {
   "cell_type": "markdown",
   "metadata": {},
   "source": [
    "# Ferramentas\n",
    "\n",
    "Para análise foi utilizada a linguagem Python e suas bibliotecas: **pandas** para estrutura e manipulação de dados; **numpy** para operação com matrizes e vertores; **matplotlib** e **seaborn** para visualização de dados; **funções personalizadas** para manipulação dos dados; **formatação de tabela** personalizada para aprimorar a exibição dos dados."
   ]
  },
  {
   "cell_type": "code",
   "execution_count": 1,
   "metadata": {},
   "outputs": [],
   "source": [
    "# bibliotecas usadas para análise\n",
    "import pandas as pd\n",
    "import numpy as np\n",
    "import matplotlib.pyplot as plt\n",
    "import seaborn as sns\n",
    "% matplotlib inline\n",
    "import warnings\n",
    "warnings.filterwarnings('ignore')\n",
    "\n",
    "plt.style.use('seaborn')\n",
    "\n",
    "# bibliotecas complementares para análise\n",
    "from data.data_modules import data_manipulation_functions as dm\n",
    "from data.data_modules import data_plot_functions as pf\n",
    "from data.data_modules import data_table_format as tab\n",
    "from data.data_modules import data_styles_main as st"
   ]
  },
  {
   "cell_type": "markdown",
   "metadata": {},
   "source": [
    "# Conjunto de dados\n",
    "\n",
    "#### Fonte\n",
    "A análise foi feita com os dados fornecidos pela Udacity a partir de uma amostra do site Kaggle.  \n",
    "Para mais detalhes, esse é o link para a fonte dos dados https://www.kaggle.com/c/titanic/data\n",
    "\n",
    "#### Preparação dos dados\n",
    "Para deixar os dados mais legíveis e consistentes de modo a preservar a informação, os dados passaram por um processo de limpeza. Durante a execução, algumas colunas foram avaliadas com relação à qualidade e pertinência de serem utilizadas na análise. Assim, dentre as 12 colunas foram delimitadas as seguintes 10 colunas:\n",
    "\n",
    "- **survived** (informa se sobreviveu)\n",
    "- **ticket_class** (classe da passagem)\n",
    "- **name** (nome)\n",
    "- **gender** (sexo)\n",
    "- **age** (idade)\n",
    "- **siblings_or_spouses** (quantidade de irmãs(ãos) ou  cônjuges)\n",
    "- **parents_or_children** (quantidade de pais ou filhas(os))\n",
    "- **ticket_number** (número do bilhete)\n",
    "- **fare** (tarifa paga) \n",
    "- **embarkation_city** (cidade de embarque)\n",
    "\n",
    "Dentre as colunas, a que contém os dados referentes a idade possuia cerca de 80% dos dados completos. Para permitir cruzamentos entre outras variáveis, os cerca de 20% de dados foram preenchidos de modo randômico de modo a preservar a proporção de diferençãs de idade dos dados completos.\n",
    "\n",
    "O passo a passo realizado pode ser verificado em [/data/data_wrangling.ipynb](./data/data_wrangling.ipynb)"
   ]
  },
  {
   "cell_type": "code",
   "execution_count": 2,
   "metadata": {},
   "outputs": [
    {
     "data": {
      "text/html": [
       "<style  type=\"text/css\" >\n",
       "    #T_a4f65b48_c17e_11e8_86c1_985aebcf2443 th:nth-child(2) {\n",
       "          text-align: left;\n",
       "    }    #T_a4f65b48_c17e_11e8_86c1_985aebcf2443 td:nth-child(2) {\n",
       "          text-align: left;\n",
       "    }    #T_a4f65b48_c17e_11e8_86c1_985aebcf2443 th:nth-child(4) {\n",
       "          text-align: left;\n",
       "    }    #T_a4f65b48_c17e_11e8_86c1_985aebcf2443 td:nth-child(4) {\n",
       "          text-align: left;\n",
       "    }    #T_a4f65b48_c17e_11e8_86c1_985aebcf2443 th:nth-child(5) {\n",
       "          text-align: left;\n",
       "    }    #T_a4f65b48_c17e_11e8_86c1_985aebcf2443 td:nth-child(5) {\n",
       "          text-align: left;\n",
       "    }    #T_a4f65b48_c17e_11e8_86c1_985aebcf2443 th:nth-child(7) {\n",
       "          text-align: left;\n",
       "    }    #T_a4f65b48_c17e_11e8_86c1_985aebcf2443 td:nth-child(7) {\n",
       "          text-align: left;\n",
       "    }    #T_a4f65b48_c17e_11e8_86c1_985aebcf2443 th:nth-child(8) {\n",
       "          text-align: left;\n",
       "    }    #T_a4f65b48_c17e_11e8_86c1_985aebcf2443 td:nth-child(8) {\n",
       "          text-align: left;\n",
       "    }    #T_a4f65b48_c17e_11e8_86c1_985aebcf2443 th:nth-child(11) {\n",
       "          text-align: left;\n",
       "    }    #T_a4f65b48_c17e_11e8_86c1_985aebcf2443 td:nth-child(11) {\n",
       "          text-align: left;\n",
       "    }</style>  \n",
       "<table id=\"T_a4f65b48_c17e_11e8_86c1_985aebcf2443\" > \n",
       "<thead>    <tr> \n",
       "        <th class=\"blank level0\" ></th> \n",
       "        <th class=\"col_heading level0 col0\" >name</th> \n",
       "        <th class=\"col_heading level0 col1\" >age</th> \n",
       "        <th class=\"col_heading level0 col2\" >gender</th> \n",
       "        <th class=\"col_heading level0 col3\" >ticket_class</th> \n",
       "        <th class=\"col_heading level0 col4\" >fare</th> \n",
       "        <th class=\"col_heading level0 col5\" >ticket_number</th> \n",
       "        <th class=\"col_heading level0 col6\" >embarkation_city</th> \n",
       "        <th class=\"col_heading level0 col7\" >siblings_or_spouses</th> \n",
       "        <th class=\"col_heading level0 col8\" >parents_or_children</th> \n",
       "        <th class=\"col_heading level0 col9\" >survived</th> \n",
       "    </tr></thead> \n",
       "<tbody>    <tr> \n",
       "        <th id=\"T_a4f65b48_c17e_11e8_86c1_985aebcf2443level0_row0\" class=\"row_heading level0 row0\" >0</th> \n",
       "        <td id=\"T_a4f65b48_c17e_11e8_86c1_985aebcf2443row0_col0\" class=\"data row0 col0\" >Braund, Mr. Owen Harris</td> \n",
       "        <td id=\"T_a4f65b48_c17e_11e8_86c1_985aebcf2443row0_col1\" class=\"data row0 col1\" >22</td> \n",
       "        <td id=\"T_a4f65b48_c17e_11e8_86c1_985aebcf2443row0_col2\" class=\"data row0 col2\" >male</td> \n",
       "        <td id=\"T_a4f65b48_c17e_11e8_86c1_985aebcf2443row0_col3\" class=\"data row0 col3\" >third</td> \n",
       "        <td id=\"T_a4f65b48_c17e_11e8_86c1_985aebcf2443row0_col4\" class=\"data row0 col4\" >7.25</td> \n",
       "        <td id=\"T_a4f65b48_c17e_11e8_86c1_985aebcf2443row0_col5\" class=\"data row0 col5\" >A/5 21171</td> \n",
       "        <td id=\"T_a4f65b48_c17e_11e8_86c1_985aebcf2443row0_col6\" class=\"data row0 col6\" >Southampton</td> \n",
       "        <td id=\"T_a4f65b48_c17e_11e8_86c1_985aebcf2443row0_col7\" class=\"data row0 col7\" >1</td> \n",
       "        <td id=\"T_a4f65b48_c17e_11e8_86c1_985aebcf2443row0_col8\" class=\"data row0 col8\" >0</td> \n",
       "        <td id=\"T_a4f65b48_c17e_11e8_86c1_985aebcf2443row0_col9\" class=\"data row0 col9\" >no</td> \n",
       "    </tr>    <tr> \n",
       "        <th id=\"T_a4f65b48_c17e_11e8_86c1_985aebcf2443level0_row1\" class=\"row_heading level0 row1\" >1</th> \n",
       "        <td id=\"T_a4f65b48_c17e_11e8_86c1_985aebcf2443row1_col0\" class=\"data row1 col0\" >Cumings, Mrs. John Bradley (Florence Briggs Thayer)</td> \n",
       "        <td id=\"T_a4f65b48_c17e_11e8_86c1_985aebcf2443row1_col1\" class=\"data row1 col1\" >38</td> \n",
       "        <td id=\"T_a4f65b48_c17e_11e8_86c1_985aebcf2443row1_col2\" class=\"data row1 col2\" >female</td> \n",
       "        <td id=\"T_a4f65b48_c17e_11e8_86c1_985aebcf2443row1_col3\" class=\"data row1 col3\" >first</td> \n",
       "        <td id=\"T_a4f65b48_c17e_11e8_86c1_985aebcf2443row1_col4\" class=\"data row1 col4\" >71.2833</td> \n",
       "        <td id=\"T_a4f65b48_c17e_11e8_86c1_985aebcf2443row1_col5\" class=\"data row1 col5\" >PC 17599</td> \n",
       "        <td id=\"T_a4f65b48_c17e_11e8_86c1_985aebcf2443row1_col6\" class=\"data row1 col6\" >Cherbourg</td> \n",
       "        <td id=\"T_a4f65b48_c17e_11e8_86c1_985aebcf2443row1_col7\" class=\"data row1 col7\" >1</td> \n",
       "        <td id=\"T_a4f65b48_c17e_11e8_86c1_985aebcf2443row1_col8\" class=\"data row1 col8\" >0</td> \n",
       "        <td id=\"T_a4f65b48_c17e_11e8_86c1_985aebcf2443row1_col9\" class=\"data row1 col9\" >yes</td> \n",
       "    </tr>    <tr> \n",
       "        <th id=\"T_a4f65b48_c17e_11e8_86c1_985aebcf2443level0_row2\" class=\"row_heading level0 row2\" >2</th> \n",
       "        <td id=\"T_a4f65b48_c17e_11e8_86c1_985aebcf2443row2_col0\" class=\"data row2 col0\" >Heikkinen, Miss. Laina</td> \n",
       "        <td id=\"T_a4f65b48_c17e_11e8_86c1_985aebcf2443row2_col1\" class=\"data row2 col1\" >26</td> \n",
       "        <td id=\"T_a4f65b48_c17e_11e8_86c1_985aebcf2443row2_col2\" class=\"data row2 col2\" >female</td> \n",
       "        <td id=\"T_a4f65b48_c17e_11e8_86c1_985aebcf2443row2_col3\" class=\"data row2 col3\" >third</td> \n",
       "        <td id=\"T_a4f65b48_c17e_11e8_86c1_985aebcf2443row2_col4\" class=\"data row2 col4\" >7.925</td> \n",
       "        <td id=\"T_a4f65b48_c17e_11e8_86c1_985aebcf2443row2_col5\" class=\"data row2 col5\" >STON/O2. 3101282</td> \n",
       "        <td id=\"T_a4f65b48_c17e_11e8_86c1_985aebcf2443row2_col6\" class=\"data row2 col6\" >Southampton</td> \n",
       "        <td id=\"T_a4f65b48_c17e_11e8_86c1_985aebcf2443row2_col7\" class=\"data row2 col7\" >0</td> \n",
       "        <td id=\"T_a4f65b48_c17e_11e8_86c1_985aebcf2443row2_col8\" class=\"data row2 col8\" >0</td> \n",
       "        <td id=\"T_a4f65b48_c17e_11e8_86c1_985aebcf2443row2_col9\" class=\"data row2 col9\" >yes</td> \n",
       "    </tr>    <tr> \n",
       "        <th id=\"T_a4f65b48_c17e_11e8_86c1_985aebcf2443level0_row3\" class=\"row_heading level0 row3\" >3</th> \n",
       "        <td id=\"T_a4f65b48_c17e_11e8_86c1_985aebcf2443row3_col0\" class=\"data row3 col0\" >Futrelle, Mrs. Jacques Heath (Lily May Peel)</td> \n",
       "        <td id=\"T_a4f65b48_c17e_11e8_86c1_985aebcf2443row3_col1\" class=\"data row3 col1\" >35</td> \n",
       "        <td id=\"T_a4f65b48_c17e_11e8_86c1_985aebcf2443row3_col2\" class=\"data row3 col2\" >female</td> \n",
       "        <td id=\"T_a4f65b48_c17e_11e8_86c1_985aebcf2443row3_col3\" class=\"data row3 col3\" >first</td> \n",
       "        <td id=\"T_a4f65b48_c17e_11e8_86c1_985aebcf2443row3_col4\" class=\"data row3 col4\" >53.1</td> \n",
       "        <td id=\"T_a4f65b48_c17e_11e8_86c1_985aebcf2443row3_col5\" class=\"data row3 col5\" >113803</td> \n",
       "        <td id=\"T_a4f65b48_c17e_11e8_86c1_985aebcf2443row3_col6\" class=\"data row3 col6\" >Southampton</td> \n",
       "        <td id=\"T_a4f65b48_c17e_11e8_86c1_985aebcf2443row3_col7\" class=\"data row3 col7\" >1</td> \n",
       "        <td id=\"T_a4f65b48_c17e_11e8_86c1_985aebcf2443row3_col8\" class=\"data row3 col8\" >0</td> \n",
       "        <td id=\"T_a4f65b48_c17e_11e8_86c1_985aebcf2443row3_col9\" class=\"data row3 col9\" >yes</td> \n",
       "    </tr>    <tr> \n",
       "        <th id=\"T_a4f65b48_c17e_11e8_86c1_985aebcf2443level0_row4\" class=\"row_heading level0 row4\" >4</th> \n",
       "        <td id=\"T_a4f65b48_c17e_11e8_86c1_985aebcf2443row4_col0\" class=\"data row4 col0\" >Allen, Mr. William Henry</td> \n",
       "        <td id=\"T_a4f65b48_c17e_11e8_86c1_985aebcf2443row4_col1\" class=\"data row4 col1\" >35</td> \n",
       "        <td id=\"T_a4f65b48_c17e_11e8_86c1_985aebcf2443row4_col2\" class=\"data row4 col2\" >male</td> \n",
       "        <td id=\"T_a4f65b48_c17e_11e8_86c1_985aebcf2443row4_col3\" class=\"data row4 col3\" >third</td> \n",
       "        <td id=\"T_a4f65b48_c17e_11e8_86c1_985aebcf2443row4_col4\" class=\"data row4 col4\" >8.05</td> \n",
       "        <td id=\"T_a4f65b48_c17e_11e8_86c1_985aebcf2443row4_col5\" class=\"data row4 col5\" >373450</td> \n",
       "        <td id=\"T_a4f65b48_c17e_11e8_86c1_985aebcf2443row4_col6\" class=\"data row4 col6\" >Southampton</td> \n",
       "        <td id=\"T_a4f65b48_c17e_11e8_86c1_985aebcf2443row4_col7\" class=\"data row4 col7\" >0</td> \n",
       "        <td id=\"T_a4f65b48_c17e_11e8_86c1_985aebcf2443row4_col8\" class=\"data row4 col8\" >0</td> \n",
       "        <td id=\"T_a4f65b48_c17e_11e8_86c1_985aebcf2443row4_col9\" class=\"data row4 col9\" >no</td> \n",
       "    </tr>    <tr> \n",
       "        <th id=\"T_a4f65b48_c17e_11e8_86c1_985aebcf2443level0_row5\" class=\"row_heading level0 row5\" >5</th> \n",
       "        <td id=\"T_a4f65b48_c17e_11e8_86c1_985aebcf2443row5_col0\" class=\"data row5 col0\" >Moran, Mr. James</td> \n",
       "        <td id=\"T_a4f65b48_c17e_11e8_86c1_985aebcf2443row5_col1\" class=\"data row5 col1\" >20.9</td> \n",
       "        <td id=\"T_a4f65b48_c17e_11e8_86c1_985aebcf2443row5_col2\" class=\"data row5 col2\" >male</td> \n",
       "        <td id=\"T_a4f65b48_c17e_11e8_86c1_985aebcf2443row5_col3\" class=\"data row5 col3\" >third</td> \n",
       "        <td id=\"T_a4f65b48_c17e_11e8_86c1_985aebcf2443row5_col4\" class=\"data row5 col4\" >8.4583</td> \n",
       "        <td id=\"T_a4f65b48_c17e_11e8_86c1_985aebcf2443row5_col5\" class=\"data row5 col5\" >330877</td> \n",
       "        <td id=\"T_a4f65b48_c17e_11e8_86c1_985aebcf2443row5_col6\" class=\"data row5 col6\" >Queestown</td> \n",
       "        <td id=\"T_a4f65b48_c17e_11e8_86c1_985aebcf2443row5_col7\" class=\"data row5 col7\" >0</td> \n",
       "        <td id=\"T_a4f65b48_c17e_11e8_86c1_985aebcf2443row5_col8\" class=\"data row5 col8\" >0</td> \n",
       "        <td id=\"T_a4f65b48_c17e_11e8_86c1_985aebcf2443row5_col9\" class=\"data row5 col9\" >no</td> \n",
       "    </tr>    <tr> \n",
       "        <th id=\"T_a4f65b48_c17e_11e8_86c1_985aebcf2443level0_row6\" class=\"row_heading level0 row6\" >6</th> \n",
       "        <td id=\"T_a4f65b48_c17e_11e8_86c1_985aebcf2443row6_col0\" class=\"data row6 col0\" >McCarthy, Mr. Timothy J</td> \n",
       "        <td id=\"T_a4f65b48_c17e_11e8_86c1_985aebcf2443row6_col1\" class=\"data row6 col1\" >54</td> \n",
       "        <td id=\"T_a4f65b48_c17e_11e8_86c1_985aebcf2443row6_col2\" class=\"data row6 col2\" >male</td> \n",
       "        <td id=\"T_a4f65b48_c17e_11e8_86c1_985aebcf2443row6_col3\" class=\"data row6 col3\" >first</td> \n",
       "        <td id=\"T_a4f65b48_c17e_11e8_86c1_985aebcf2443row6_col4\" class=\"data row6 col4\" >51.8625</td> \n",
       "        <td id=\"T_a4f65b48_c17e_11e8_86c1_985aebcf2443row6_col5\" class=\"data row6 col5\" >17463</td> \n",
       "        <td id=\"T_a4f65b48_c17e_11e8_86c1_985aebcf2443row6_col6\" class=\"data row6 col6\" >Southampton</td> \n",
       "        <td id=\"T_a4f65b48_c17e_11e8_86c1_985aebcf2443row6_col7\" class=\"data row6 col7\" >0</td> \n",
       "        <td id=\"T_a4f65b48_c17e_11e8_86c1_985aebcf2443row6_col8\" class=\"data row6 col8\" >0</td> \n",
       "        <td id=\"T_a4f65b48_c17e_11e8_86c1_985aebcf2443row6_col9\" class=\"data row6 col9\" >no</td> \n",
       "    </tr>    <tr> \n",
       "        <th id=\"T_a4f65b48_c17e_11e8_86c1_985aebcf2443level0_row7\" class=\"row_heading level0 row7\" >7</th> \n",
       "        <td id=\"T_a4f65b48_c17e_11e8_86c1_985aebcf2443row7_col0\" class=\"data row7 col0\" >Palsson, Master. Gosta Leonard</td> \n",
       "        <td id=\"T_a4f65b48_c17e_11e8_86c1_985aebcf2443row7_col1\" class=\"data row7 col1\" >2</td> \n",
       "        <td id=\"T_a4f65b48_c17e_11e8_86c1_985aebcf2443row7_col2\" class=\"data row7 col2\" >male</td> \n",
       "        <td id=\"T_a4f65b48_c17e_11e8_86c1_985aebcf2443row7_col3\" class=\"data row7 col3\" >third</td> \n",
       "        <td id=\"T_a4f65b48_c17e_11e8_86c1_985aebcf2443row7_col4\" class=\"data row7 col4\" >21.075</td> \n",
       "        <td id=\"T_a4f65b48_c17e_11e8_86c1_985aebcf2443row7_col5\" class=\"data row7 col5\" >349909</td> \n",
       "        <td id=\"T_a4f65b48_c17e_11e8_86c1_985aebcf2443row7_col6\" class=\"data row7 col6\" >Southampton</td> \n",
       "        <td id=\"T_a4f65b48_c17e_11e8_86c1_985aebcf2443row7_col7\" class=\"data row7 col7\" >3</td> \n",
       "        <td id=\"T_a4f65b48_c17e_11e8_86c1_985aebcf2443row7_col8\" class=\"data row7 col8\" >1</td> \n",
       "        <td id=\"T_a4f65b48_c17e_11e8_86c1_985aebcf2443row7_col9\" class=\"data row7 col9\" >no</td> \n",
       "    </tr>    <tr> \n",
       "        <th id=\"T_a4f65b48_c17e_11e8_86c1_985aebcf2443level0_row8\" class=\"row_heading level0 row8\" >8</th> \n",
       "        <td id=\"T_a4f65b48_c17e_11e8_86c1_985aebcf2443row8_col0\" class=\"data row8 col0\" >Johnson, Mrs. Oscar W (Elisabeth Vilhelmina Berg)</td> \n",
       "        <td id=\"T_a4f65b48_c17e_11e8_86c1_985aebcf2443row8_col1\" class=\"data row8 col1\" >27</td> \n",
       "        <td id=\"T_a4f65b48_c17e_11e8_86c1_985aebcf2443row8_col2\" class=\"data row8 col2\" >female</td> \n",
       "        <td id=\"T_a4f65b48_c17e_11e8_86c1_985aebcf2443row8_col3\" class=\"data row8 col3\" >third</td> \n",
       "        <td id=\"T_a4f65b48_c17e_11e8_86c1_985aebcf2443row8_col4\" class=\"data row8 col4\" >11.1333</td> \n",
       "        <td id=\"T_a4f65b48_c17e_11e8_86c1_985aebcf2443row8_col5\" class=\"data row8 col5\" >347742</td> \n",
       "        <td id=\"T_a4f65b48_c17e_11e8_86c1_985aebcf2443row8_col6\" class=\"data row8 col6\" >Southampton</td> \n",
       "        <td id=\"T_a4f65b48_c17e_11e8_86c1_985aebcf2443row8_col7\" class=\"data row8 col7\" >0</td> \n",
       "        <td id=\"T_a4f65b48_c17e_11e8_86c1_985aebcf2443row8_col8\" class=\"data row8 col8\" >2</td> \n",
       "        <td id=\"T_a4f65b48_c17e_11e8_86c1_985aebcf2443row8_col9\" class=\"data row8 col9\" >yes</td> \n",
       "    </tr>    <tr> \n",
       "        <th id=\"T_a4f65b48_c17e_11e8_86c1_985aebcf2443level0_row9\" class=\"row_heading level0 row9\" >9</th> \n",
       "        <td id=\"T_a4f65b48_c17e_11e8_86c1_985aebcf2443row9_col0\" class=\"data row9 col0\" >Nasser, Mrs. Nicholas (Adele Achem)</td> \n",
       "        <td id=\"T_a4f65b48_c17e_11e8_86c1_985aebcf2443row9_col1\" class=\"data row9 col1\" >14</td> \n",
       "        <td id=\"T_a4f65b48_c17e_11e8_86c1_985aebcf2443row9_col2\" class=\"data row9 col2\" >female</td> \n",
       "        <td id=\"T_a4f65b48_c17e_11e8_86c1_985aebcf2443row9_col3\" class=\"data row9 col3\" >second</td> \n",
       "        <td id=\"T_a4f65b48_c17e_11e8_86c1_985aebcf2443row9_col4\" class=\"data row9 col4\" >30.0708</td> \n",
       "        <td id=\"T_a4f65b48_c17e_11e8_86c1_985aebcf2443row9_col5\" class=\"data row9 col5\" >237736</td> \n",
       "        <td id=\"T_a4f65b48_c17e_11e8_86c1_985aebcf2443row9_col6\" class=\"data row9 col6\" >Cherbourg</td> \n",
       "        <td id=\"T_a4f65b48_c17e_11e8_86c1_985aebcf2443row9_col7\" class=\"data row9 col7\" >1</td> \n",
       "        <td id=\"T_a4f65b48_c17e_11e8_86c1_985aebcf2443row9_col8\" class=\"data row9 col8\" >0</td> \n",
       "        <td id=\"T_a4f65b48_c17e_11e8_86c1_985aebcf2443row9_col9\" class=\"data row9 col9\" >yes</td> \n",
       "    </tr></tbody> \n",
       "</table> "
      ],
      "text/plain": [
       "<pandas.io.formats.style.Styler at 0x10920b0b8>"
      ]
     },
     "execution_count": 2,
     "metadata": {},
     "output_type": "execute_result"
    }
   ],
   "source": [
    "# carregamento dos dados\n",
    "data_titanic = pd.read_csv('./data/data_titanic_clean')\n",
    "\n",
    "# exibição das 3 primeiras linhas do conjunto de dados\n",
    "tab.format_table(data_titanic.head(10))"
   ]
  },
  {
   "cell_type": "markdown",
   "metadata": {},
   "source": [
    "Além do conjunto de dados a partir da preparação, no decorrer da análise, novas combinações entre os dados foram realizadas conforme podem ser conferidas abaixo: "
   ]
  },
  {
   "cell_type": "code",
   "execution_count": 44,
   "metadata": {},
   "outputs": [],
   "source": [
    "# mediana que divide os valores pagoso pela primeira classe\n",
    "first_class_median_fare = data_titanic.query('ticket_class == \"first\"')['fare'].median()\n",
    "\n",
    "# destino das pessoas\n",
    "survivors = data_titanic.query('survived == \"yes\"')\n",
    "victims = data_titanic.query('survived == \"no\"')\n",
    "\n",
    "# viajantes sós vs acompanhados\n",
    "alone = data_titanic.query('siblings_or_spouses == 0 and parents_or_children == 0')\n",
    "group = data_titanic.query('siblings_or_spouses != 0 and parents_or_children != 0')\n",
    "data_titanic['companion'] = pd.DataFrame({'companion':['alone']*len(alone.index)}, index=alone.index)\n",
    "data_titanic['companion'].fillna('group', inplace=True)\n",
    "\n",
    "# embarque\n",
    "embarkation_cities = data_titanic.query('embarkation_city != \"not_provided\"')\n",
    "\n",
    "# idade\n",
    "data_titanic['maturity'] = data_titanic['age'].apply(lambda age: 'adult' if age < 18 else 'child')\n",
    "adults = data_titanic.query('age > 18')\n",
    "kids = data_titanic.query('age <= 18')\n",
    "\n",
    "# cruzamentos entre conjunto de dados\n",
    "companion_x_destiny = pd.crosstab(data_titanic['companion'], data_titanic['survived'], normalize='all')\n",
    "class_cities_mean_fare = pd.crosstab(index=data_titanic['ticket_class'], margins='all',\\\n",
    "                                     columns=data_titanic['embarkation_city'],\\\n",
    "                                     values=data_titanic['fare'], aggfunc='mean')\n",
    "class_cities_mean_fare = class_cities_mean_fare[['Southampton', 'Cherbourg', 'Queestown']]\n",
    "max_city_mean_ticket = max(class_cities_mean_fare.describe().max())\n",
    "\n",
    "class_cities_mean_survivors = pd.crosstab(index=survivors['ticket_class'], margins='all',\\\n",
    "                                          columns=embarkation_cities['embarkation_city'],\\\n",
    "                                          values=survivors['survived'], aggfunc='count')\n",
    "class_cities_mean_survivors = class_cities_mean_survivors[['Southampton', 'Cherbourg', 'Queestown']]\n",
    "class_cities_mean_survivors_max = max(class_cities_mean_survivors.loc['All':].describe().max())\n",
    "\n",
    "class_cities_mean_victims = pd.crosstab(index=victims['ticket_class'], margins='all',\n",
    "                                        columns=embarkation_cities['embarkation_city'],\\\n",
    "                                        values=victims['survived'], aggfunc='count')\n",
    "class_cities_mean_victims = class_cities_mean_victims[['Southampton', 'Cherbourg', 'Queestown']]\n",
    "class_cities_mean_victims_max = max(class_cities_mean_victims.loc['All':].describe().max())\n",
    "\n",
    "class_cities_mean_survivors_victims_max = max(class_cities_mean_survivors_max, class_cities_mean_victims_max)"
   ]
  },
  {
   "cell_type": "markdown",
   "metadata": {},
   "source": [
    "#### Descrição da amostra\n",
    "A amostra contém **891** dados que representam cerca de **20%** da quantidade total de **2224** referentes às pessoas presentes no navio. Por possuir apenas informações sobre a classe do tipo de passagem comprada, podemos inferir que essa **amostra é delimitada aos passageiros** do navio o que deixa de fora, assim, informações sobre a tripulação."
   ]
  },
  {
   "cell_type": "markdown",
   "metadata": {},
   "source": [
    "# Questões-chave\n",
    "A investigação feita buscou focar em temas relacionados a idade, gênero e econômico a partir da amostra de dados do Titanic. Para chegar às questões da análise, primeiramente foram elaboradas algumas questões iniciais (1 e 2) antes da limpeza dos dados e uma outra questão(3) depois.\n",
    "Assim, como resultado, as seguintes questões-chave foram elencadas:\n",
    "\n",
    "#### Questões\n",
    "1. Pessoas com maior poder aquisitivo também foram as que mais sobreviveram à tragédia?\n",
    "- É possível confirmar o ditado de que mulheres e crianças são prioridade no salvamento dentre as pessoas passageiras?\n",
    "- Pessoas que viajaram sozinhas tiveram mais chances de sobreviver?"
   ]
  },
  {
   "cell_type": "markdown",
   "metadata": {},
   "source": [
    "### 1. Pessoas com maior poder aquisitivo também foram as que mais sobreviveram à tragédia?"
   ]
  },
  {
   "cell_type": "markdown",
   "metadata": {},
   "source": [
    "Há duas variáveis no conjunto de dados que indicam poder aquisitivo: **ticket_class**(classe da passagem) e  **fare** (tarifa paga). Ambas ficam restritas ao contexto da viagem e outros bens como imóveis ou heranças não foram informados. Para efeito da análise, vamos considerar, principalmente, pessoas com alto poder aquisitivo àquelas da primeira classe e com alto valor de tarifa pago e pessoas com baixo poder aquisitivo o contrário."
   ]
  },
  {
   "cell_type": "markdown",
   "metadata": {},
   "source": [
    "#### Classes\n",
    "A classe das passagens é dividida em 3 tipos que, a princípio, sugerem ser da mais cara para mais barata: primeira, segunda e terceira. Por si só já seria um critério que aponta, no geral, para o poder aquisitivo da pessoa. No entanto precisamos considerar que há casos de descontos da passagem (até mesmo não pagamento)."
   ]
  },
  {
   "cell_type": "code",
   "execution_count": 4,
   "metadata": {
    "scrolled": true
   },
   "outputs": [
    {
     "data": {
      "text/plain": [
       "{'first': {0.0: 5}, 'second': {0.0: 6}, 'third': {0.0: 4}}"
      ]
     },
     "execution_count": 4,
     "metadata": {},
     "output_type": "execute_result"
    }
   ],
   "source": [
    "# quantidade de pessoas que não pagaram por classe de passagem\n",
    "pd.crosstab(data_titanic.query('fare == 0')['fare'], data_titanic['ticket_class']).to_dict()"
   ]
  },
  {
   "cell_type": "markdown",
   "metadata": {},
   "source": [
    "Dada a sugestão inicial, há de fato uma correspondência entre tipo de classe e valor pago na tarifa de fato nessa amostra?"
   ]
  },
  {
   "cell_type": "code",
   "execution_count": 5,
   "metadata": {},
   "outputs": [
    {
     "data": {
      "image/png": "[encoded data removed]",
      "text/plain": [
       "<matplotlib.figure.Figure at 0x1a1b7d1550>"
      ]
     },
     "metadata": {
      "needs_background": "light"
     },
     "output_type": "display_data"
    }
   ],
   "source": [
    "figure, ax = plt.subplots(1,1, figsize=(20,2))\n",
    "# ----------------------------------------------------------------------------------------------------\n",
    "fare_ticket_class = sns.boxplot(y='ticket_class', x='fare', data=data_titanic,\\\n",
    "            palette=st.palette_classes, order=['first', 'second', 'third'])\n",
    "pf.set_title(fare_ticket_class, 'Fare by ticket class ')\n",
    "# ----------------------------------------------------------------------------------------------------\n",
    "figure.show()"
   ]
  },
  {
   "cell_type": "markdown",
   "metadata": {},
   "source": [
    "Por meio da gráfico podemos confirmar que sim os valores da tarifa correspondem no geral, com exceção de alguns outliers (valores com anomalia em relação ao todo), ao tipo de classe de passagem: da primeira com tarifa maior até a terceira com tarifa menor."
   ]
  },
  {
   "cell_type": "code",
   "execution_count": 6,
   "metadata": {},
   "outputs": [
    {
     "data": {
      "image/png": "[encoded data removed]",
      "text/plain": [
       "<matplotlib.figure.Figure at 0x1a1bc7b6a0>"
      ]
     },
     "metadata": {
      "needs_background": "light"
     },
     "output_type": "display_data"
    }
   ],
   "source": [
    "figure, ax = plt.subplots(1,1, sharex='col', sharey='row', figsize=(15,8))\n",
    "# ----------------------------------------------------------------------------------------------------\n",
    "fare_ticket_class_destiny = sns.violinplot(x='survived', y='fare', order=['yes','no'], data=data_titanic,\\\n",
    "                                   hue_order=['first','second','third'], hue='ticket_class',\\\n",
    "                                   palette=st.palette_classes, linewidth=0.8 )\n",
    "pf.set_title(fare_ticket_class_destiny, 'Fare between survivors and victms\\n by ticket class')\n",
    "# ----------------------------------------------------------------------------------------------------\n",
    "figure.show()"
   ]
  },
  {
   "cell_type": "markdown",
   "metadata": {},
   "source": [
    "Acima comparamos as pessoas que sobreviveram e morreram com as classes delas. Podemos destacar, por meio das distribuições, que mais pessoas da primera classe e que pagaram mais sobreviveram."
   ]
  },
  {
   "cell_type": "markdown",
   "metadata": {},
   "source": [
    "#### Tarifas\n",
    "A tarifa paga do conjunto de dados não deixa claro sobre o que exatamento foi pago: passagem? taxa de embarque? serviços extras? Vamos levar em conta, para análise, que pelo pelo menos o valor da passagem."
   ]
  },
  {
   "cell_type": "code",
   "execution_count": 46,
   "metadata": {},
   "outputs": [
    {
     "name": "stdout",
     "output_type": "stream",
     "text": [
      "survivors_above_medium_percentage: 67.21311475409836% \n",
      "victims_above_medium_percentage: 30.327868852459016%\n"
     ]
    }
   ],
   "source": [
    "# mediana\n",
    "total_above_median = data_titanic.query(f'fare >= {first_class_median_fare}')['fare'].count()\n",
    "survivors_above_median = survivors.query(f'fare >= {first_class_median_fare}')['fare'].count()\n",
    "victims_above_median = victims.query('fare >= 62.3')['fare'].count()\n",
    "\n",
    "survivors_above_medium_percentage = dm.get_percent_of(survivors_above_median, total_above_median)\n",
    "victims_above_medium_percentage = dm.get_percent_of(victims_above_median, total_above_median)\n",
    "\n",
    "print(f'survivors_above_medium_percentage: {survivors_above_medium_percentage}%',\n",
    "      f'\\nvictims_above_medium_percentage: {victims_above_medium_percentage}%')"
   ]
  },
  {
   "cell_type": "code",
   "execution_count": null,
   "metadata": {},
   "outputs": [],
   "source": [
    "figure, ax = plt.subplots(1,2, sharex='col', sharey='row', figsize=(20,5))\n",
    "# ----------------------------------------------------------------------------------------------------\n",
    "fare_survivors = pf.plot_distribution_with_means(survivors['fare'], color=st.color_survivors,\\\n",
    "                                                 title='Survivors fare distributions', ax=ax[0])\n",
    "\n",
    "fare_victims = pf.plot_distribution_with_means(victims['fare'], color=st.color_victims,\\\n",
    "                                               title='Victims fare distributions', ax=ax[1])\n",
    "# ----------------------------------------------------------------------------------------------------\n",
    "figure.show()"
   ]
  },
  {
   "cell_type": "markdown",
   "metadata": {},
   "source": [
    "Por meio da distribuição dos valores das passagens acima, podemos observar a concentração dos valores pagos com relação aos sobreviventes e às vítimas. Disso, o que se destaca é a alta concentração de quantidade de vítimas que pagaram um valor baixo de passagem. \n",
    "A média geral do valor pago para viajar pelos sobreviventes é mais que o dobro do das vítimas. Além disso, "
   ]
  },
  {
   "cell_type": "markdown",
   "metadata": {},
   "source": [
    "Outro ponto importante é o valor médio das tarifas considerando a cidade de embarque. A rota seria sair da cidade Southampton, passar por Cherbourg, em seguida por Queestown e atravessar o oceano Atlântico até chegar em New York. Diferente do tipo de cobrança em que é mais caro conforme a distância percorrida do embarque ao destino, vemos pelo heatmap a seguir que, quem embarcou na segunda cidade Cherbourg, na mégia geral pagou mais caro."
   ]
  },
  {
   "cell_type": "code",
   "execution_count": null,
   "metadata": {},
   "outputs": [],
   "source": [
    "figure, ax = plt.subplots(1,2, figsize=(15,2.5))\n",
    "# ----------------------------------------------------------------------------------------------------\n",
    "cities_mean = sns.heatmap(class_cities_mean_fare.loc['All':], annot=True, fmt='.2f', cmap='BuPu',\\\n",
    "                          ax=ax[0], vmin=0, vmax=max_city_mean_ticket, cbar=False, linewidths=2)\n",
    "pf.set_title(cities_mean, 'Mean fare by embarkation city')\n",
    "cities_mean.set_xlabel('') and cities_mean.set_ylabel('')\n",
    "\n",
    "cities_mean_cities = sns.heatmap(class_cities_mean_fare.drop('All'), annot=True, fmt='.2f', cmap='BuPu',\\\n",
    "                                 ax=ax[1], vmin=0, vmax=max_city_mean_ticket, cbar=False, linewidths=2)\n",
    "pf.set_title(cities_mean_cities, 'Mean ticket class fare by embarkation city')\n",
    "cities_mean_cities.set_xlabel('') and cities_mean_cities.set_ylabel('')\n",
    "# ----------------------------------------------------------------------------------------------------\n",
    "figure.show()"
   ]
  },
  {
   "cell_type": "code",
   "execution_count": null,
   "metadata": {},
   "outputs": [],
   "source": [
    "figure, ax = plt.subplots(1,2, figsize=(15,2.5))\n",
    "# ----------------------------------------------------------------------------------------------------\n",
    "class_cities_mean_heatmap_survivors = sns.heatmap(class_cities_mean_survivors.drop(index='All'),\\\n",
    "                                                  annot=True, ax=ax[0], fmt='#', cbar=False,\\\n",
    "                                                  vmin=0,\\\n",
    "                                                  linewidths=2, cmap=sns.light_palette(st.color_survivors))\n",
    "pf.set_title(class_cities_mean_heatmap_survivors, 'Mean class fare survivors by embarkation city')\n",
    "class_cities_mean_heatmap_survivors.set_xlabel('') and class_cities_mean_heatmap_survivors.set_ylabel('')\n",
    "\n",
    "class_cities_mean_heatmap_victims = sns.heatmap(class_cities_mean_victims.drop(index='All'), annot=True, ax=ax[1],\\\n",
    "                                                fmt='#', vmin=0, \\\n",
    "                                                cbar=False, linewidths=2, cmap=sns.light_palette(st.color_victims))\n",
    "pf.set_title(class_cities_mean_heatmap_victims, 'Mean class fare victms by embarkation city')\n",
    "class_cities_mean_heatmap_victims.set_xlabel('') and class_cities_mean_heatmap_victims.set_ylabel('')\n",
    "# ----------------------------------------------------------------------------------------------------\n",
    "figure.show()"
   ]
  },
  {
   "cell_type": "markdown",
   "metadata": {},
   "source": [
    "A respeito da quantidade de sobreviventes por cidade de embarque a prevalência, no entanto, se deu na cidade de saída Southampton. Esta também possui uma quantidade de sobreviventes de várias classes mais equilibrado com cerca de **72** sobreviventes por classe."
   ]
  },
  {
   "cell_type": "markdown",
   "metadata": {},
   "source": [
    "#### Fechamento\n",
    "De acordo com a amostra, confirmamos que existe uma relação direta entre classe e o valor pago. Essas duas variáveis foram usadas como critérios para informar se alguém tem um alto ou baixo pode aquisitivo.  \n",
    "Não é possível afirmar o porquê mas pessoas passageiras com alto poder aquisitivo foram sim as que mais sobreviveram. Isso é reforçado pelo grande quantidade de pessoas da primeira classe sobrevivente com destaque para as pessoas com maior pagamento de tarifa. Em contraste, a maior concentração de vítimas é de pessoas da terceira classe. "
   ]
  },
  {
   "cell_type": "markdown",
   "metadata": {},
   "source": [
    "### 2. É possível confirmar o ditado de que mulheres e crianças são prioridade no salvamento dentre as pessoas passageiras?"
   ]
  },
  {
   "cell_type": "markdown",
   "metadata": {},
   "source": [
    "critério de idade para adulto unicef"
   ]
  },
  {
   "cell_type": "code",
   "execution_count": null,
   "metadata": {},
   "outputs": [],
   "source": [
    "sns.FacetGrid(adults, col='survived', hue='gender',\\\n",
    "              palette=st.palette_gender, height=3, aspect=2).map(sns.distplot, 'age', kde=False)\n",
    "sns.FacetGrid(adults, col='survived', hue='maturity',\\\n",
    "              palette=st.palette_maturity, height=3, aspect=2).map(sns.distplot, 'age', kde=False)\n",
    "# sns.catplot(x='survived', hue='maturity', data=data_titanic, kind='bar')"
   ]
  },
  {
   "cell_type": "code",
   "execution_count": null,
   "metadata": {},
   "outputs": [],
   "source": [
    "pd.crosstab(index=data_titanic['gender'], columns=data_titanic['maturity'], margins=True, normalize='all')"
   ]
  },
  {
   "cell_type": "markdown",
   "metadata": {},
   "source": [
    ">age >fare\n",
    ">media considerando cada local de embarque tem valor diferente"
   ]
  },
  {
   "cell_type": "markdown",
   "metadata": {},
   "source": [
    "### 3. Pessoas que viajaram sozinhas tiveram mais chances de sobreviver?"
   ]
  },
  {
   "cell_type": "code",
   "execution_count": null,
   "metadata": {},
   "outputs": [],
   "source": [
    "companion_plot = sns.catplot(y='survived', hue='companion', kind='count', data=data_titanic, order=['yes','no'],\\\n",
    "                             palette=st.palette_companion, height=2, aspect=6)"
   ]
  },
  {
   "cell_type": "code",
   "execution_count": null,
   "metadata": {
    "scrolled": true
   },
   "outputs": [],
   "source": [
    "sns.heatmap(companion_x_destiny, annot=True, fmt='#%', cmap='BuPu')"
   ]
  },
  {
   "cell_type": "code",
   "execution_count": null,
   "metadata": {},
   "outputs": [],
   "source": []
  },
  {
   "cell_type": "markdown",
   "metadata": {},
   "source": [
    "# Considerações finais"
   ]
  },
  {
   "cell_type": "markdown",
   "metadata": {},
   "source": [
    "Embora focada em passageiros\n"
   ]
  },
  {
   "cell_type": "markdown",
   "metadata": {},
   "source": [
    "**Critérios**:\n",
    "- \"Faça testes e sugira perguntas que promovam olhar para relacionamentos entre múltiplas variáveis\"\n",
    "- \"Você deve analisar pelo menos uma variável dependente e três variáveis ​​independentes em sua investigação\"\n",
    "- \"Uma definição de qual pergunta você fez\"\n",
    "- \"Uma nota especificando qual foi o conjunto de dados usado\"\n",
    "- \"Uma descrição do que você fez para investigar a pergunta\"\n",
    "Um PDF ou HTML contendo sua análise. Este arquivo deve conter:\n",
    "\n",
    "\n",
    "Descrição de qualquer limpeza de dados feita  \n",
    "Um resumo das estatísticas e gráficos comunicando seu resultado final  \n",
    "O código usado para criar suas análises. Se você usou um notebook iPython, pode enviar seu .ipynb. Caso não o tenha feito, encaminhe os arquivos .py.\n",
    "\n"
   ]
  },
  {
   "cell_type": "markdown",
   "metadata": {},
   "source": [
    "Para obter maior compreensão dos dados, segue uma descrição... ?? "
   ]
  },
  {
   "cell_type": "markdown",
   "metadata": {},
   "source": [
    "### Referências"
   ]
  },
  {
   "cell_type": "markdown",
   "metadata": {},
   "source": [
    "##### Fonte\n",
    "- [Kaggle - Titanic](https://www.kaggle.com/c/titanic/data)\n",
    "\n",
    "##### Conteúdos sobre Titanic:\n",
    "- [Em naufrágios, crianças e mulheres têm mesmo prioridade?](https://super.abril.com.br/mundo-estranho/em-naufragios-criancas-e-mulheres-tem-mesmo-prioridade/)\n",
    "- [Em naufrágios e outros desastres, mulheres e crianças só conseguem sair por último](http://revistagalileu.globo.com/Revista/Common/0,,EMI302308-17770,00-EM+NAUFRAGIOS+E+OUTROS+DESASTRES+MULHERES+E+CRIANCAS+SO+CONSEGUEM+SAIR+POR+.html)\n",
    "- [Nerdologia - Titanic](https://www.youtube.com/watch?v=GlEV_2qbvx8)\n",
    "\n",
    "\n",
    "##### Análises de dados\n",
    "- [Lautert, Larissa. Análise exploratória da fila - hacking-health-sc-2017](https://github.com/llautert/hacking-health-sc-2017/blob/master/An%C3%A1lise%20explorat%C3%B3ria%20da%20fila.ipynb)\n",
    "- [Reis, Filipe - T2 - Análise Exploratória de Dados - Filipe Reis - RA091202](https://github.com/fireis/ia369w_exp_data_ana/blob/master/T2%20-%20Saude%20-%20Filipe%20Reis%20-%20RA091202.ipynb)\n",
    "- [Siqueira, Fernando - Análise de notas de alunos](https://github.com/fernandolkf/dotdigitalgroup/blob/master/dotdigitalgroup.ipynb)\n",
    "\n",
    "\n",
    "##### Técnicos\n",
    "- [Handling missing data](https://www.oreilly.com/learning/handling-missing-data)\n",
    "- [Mean Median Mode lines showing only in last graph in seaborn](https://stackoverflow.com/questions/51417483/mean-median-mode-lines-showing-only-in-last-graph-in-seaborn/51417635)\n",
    "\n",
    "- [A collection of various notebook extensions for Jupyter](https://github.com/ipython-contrib/jupyter_contrib_nbextensions)\n",
    "- [Python for Data Science and Machine Learning Bootcamp](https://www.udemy.com/python-for-data-science-and-machine-learning-bootcamp)\n",
    "- [Percent stacked barplot](https://python-graph-gallery.com/13-percent-stacked-barplot/)\n",
    "- [5 reasons you should use a violin graph](https://medium.com/@bioturing/5-reasons-you-should-use-a-violin-graph-31a9cdf2d0c6)\n",
    "\n",
    "#### Complementares\n",
    "- [The convention on the Rights of the child](https://www.unicef.org/crc/files/Guiding_Principles.pdf)"
   ]
  }
 ],
 "metadata": {
  "kernelspec": {
   "display_name": "Python 3",
   "language": "python",
   "name": "python3"
  },
  "language_info": {
   "codemirror_mode": {
    "name": "ipython",
    "version": 3
   },
   "file_extension": ".py",
   "mimetype": "text/x-python",
   "name": "python",
   "nbconvert_exporter": "python",
   "pygments_lexer": "ipython3",
   "version": "3.6.6"
  }
 },
 "nbformat": 4,
 "nbformat_minor": 2
}
