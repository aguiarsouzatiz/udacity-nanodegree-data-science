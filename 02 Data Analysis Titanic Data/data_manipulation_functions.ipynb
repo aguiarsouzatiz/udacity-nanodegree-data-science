{
 "cells": [
  {
   "cell_type": "markdown",
   "metadata": {},
   "source": [
    "### Funções para manipulação de dados"
   ]
  },
  {
   "cell_type": "code",
   "execution_count": 5,
   "metadata": {},
   "outputs": [],
   "source": [
    "def get_percent_of(amount_reference, total):\n",
    "    '''\n",
    "    Calculates percentage between a given part of total\n",
    "    '''    \n",
    "    return (amount_reference / total) * 100\n",
    "\n",
    "\n",
    "def condition_to_check_by(condition):\n",
    "    '''\n",
    "    Executes for each described condition (key) a verification lambda function (value)\n",
    "    that accepts data frame or series and returns True or False\n",
    "    '''\n",
    "    to_apply = {'null': lambda data: data.isnull().any(),\n",
    "                'duplicated': lambda data: data.duplicated().any()}\n",
    "    return to_apply[condition]\n",
    "\n",
    "\n",
    "def get_column_names(data_frame, condition_in):\n",
    "    ''''\n",
    "    Verifies condition and returns column names case condition is True\n",
    "    '''\n",
    "    return [column for column in data_frame.columns if condition_in(data_frame[column])]\n",
    "\n",
    "\n",
    "def check_data_frame(by_method):\n",
    "    '''\n",
    "    Executes for each verification data frame type (key) a lambda function:\n",
    "    - key extract_column_names check data frame and returns columns names\n",
    "    - key check_conditions check data frame or series and returns data frame column True or False\n",
    "    '''    \n",
    "    to_check = {'extract_column_names': lambda data_frame, condition: get_column_names(data_frame, condition),\n",
    "                'check_conditions': lambda data, condition_in: condition_in(data)}\n",
    "    return to_check[by_method]\n",
    "\n",
    "\n",
    "def get_data_by_condition_from(data_frame):\n",
    "    '''\n",
    "    Verifies some given condition in data frame by the \n",
    "    funcions condition_to_check_by and check_data_frame\n",
    "    '''\n",
    "    def get_data_frame_with(condition, by_method):\n",
    "        get_from = check_data_frame(by_method)\n",
    "        has_condition = condition_to_check_by(condition)\n",
    "        return get_from(data_frame, has_condition)\n",
    "    return get_data_frame_with\n",
    "\n",
    "def adjust_column_by(criteria_to_adjust, to_lower=True):\n",
    "    '''\n",
    "    Returns a function description to manipulate data rows. \n",
    "    It is to be used in data frame apply method\n",
    "    '''\n",
    "    format_string = lambda value: str(value).lower() if to_lower else str(value)\n",
    "    def get_adjusted(value):\n",
    "        initial_value = str(value).lower() if type(value) == str else value\n",
    "        if criteria_to_adjust.get(initial_value):\n",
    "            return format_string(criteria_to_adjust[initial_value]) \n",
    "        else: \n",
    "            return initial_value\n",
    "    return get_adjusted\n",
    "\n",
    "\n",
    "def plot_distribution_with_means(data_frame, content):\n",
    "    ''''\n",
    "    Plots a seaborn distribution chart with mean, median and mode mark line\n",
    "    '''\n",
    "    data_frame.set_title(content['title'])\n",
    "    data_frame.axvline(content['mean'], color='r', linestyle='-', label='mean')\n",
    "    data_frame.axvline(content['median'], color='b', linestyle='--', label='median')\n",
    "    data_frame.axvline(content['mode'], color='g', linestyle='-.', label='mode')\n",
    "    data_frame.legend()"
   ]
  },
  {
   "cell_type": "code",
   "execution_count": null,
   "metadata": {},
   "outputs": [],
   "source": []
  }
 ],
 "metadata": {
  "celltoolbar": "Raw Cell Format",
  "kernelspec": {
   "display_name": "Python 3",
   "language": "python",
   "name": "python3"
  },
  "language_info": {
   "codemirror_mode": {
    "name": "ipython",
    "version": 3
   },
   "file_extension": ".py",
   "mimetype": "text/x-python",
   "name": "python",
   "nbconvert_exporter": "python",
   "pygments_lexer": "ipython3",
   "version": "3.6.6"
  }
 },
 "nbformat": 4,
 "nbformat_minor": 2
}
